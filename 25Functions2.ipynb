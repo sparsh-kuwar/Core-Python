{
  "cells": [
    {
      "cell_type": "markdown",
      "metadata": {
        "id": "VBg8QWPO1Bsq"
      },
      "source": [
        "Function without parameters"
      ]
    },
    {
      "cell_type": "code",
      "execution_count": 2,
      "metadata": {
        "id": "WkNdFemBzMjJ"
      },
      "outputs": [],
      "source": [
        "def welcome():\n",
        "  print('Welcome to SohamGlobal')\n",
        "  print('-'*35)"
      ]
    },
    {
      "cell_type": "code",
      "execution_count": 3,
      "metadata": {
        "colab": {
          "base_uri": "https://localhost:8080/"
        },
        "id": "8sKxSxf71QPw",
        "outputId": "3fcf4e8b-b254-4a42-8e6f-27852a9ea3b7"
      },
      "outputs": [
        {
          "name": "stdout",
          "output_type": "stream",
          "text": [
            "Welcome to SohamGlobal\n",
            "-----------------------------------\n"
          ]
        }
      ],
      "source": [
        "welcome()"
      ]
    },
    {
      "cell_type": "markdown",
      "metadata": {
        "id": "jCEhZkLs1bs6"
      },
      "source": [
        "Function with parameter"
      ]
    },
    {
      "cell_type": "code",
      "execution_count": 4,
      "metadata": {
        "id": "KOzvj9qR1eNx"
      },
      "outputs": [],
      "source": [
        "def thanks(nm):\n",
        "  print(f'thanks {nm} for joining us')"
      ]
    },
    {
      "cell_type": "code",
      "execution_count": 5,
      "metadata": {
        "colab": {
          "base_uri": "https://localhost:8080/"
        },
        "id": "oYR_hign1zTK",
        "outputId": "5c4179fe-39a0-4cd0-80a4-4ff28b39eae9"
      },
      "outputs": [
        {
          "name": "stdout",
          "output_type": "stream",
          "text": [
            "thanks sparsh for joining us\n",
            "thanks deu for joining us\n"
          ]
        }
      ],
      "source": [
        "thanks('sparsh')\n",
        "thanks('deu')\n",
        "#thanks(12345)"
      ]
    },
    {
      "cell_type": "markdown",
      "metadata": {
        "id": "UD5G9_8I3fJ5"
      },
      "source": [
        "Function with type hints"
      ]
    },
    {
      "cell_type": "code",
      "execution_count": 6,
      "metadata": {
        "id": "TZoBt7_223Bt"
      },
      "outputs": [],
      "source": [
        "def add(x: int,y: int):\n",
        "  res=x+y\n",
        "  print(f'sum of {x} and {y} is {res}')"
      ]
    },
    {
      "cell_type": "code",
      "execution_count": 7,
      "metadata": {
        "colab": {
          "base_uri": "https://localhost:8080/"
        },
        "id": "b7IXHRvL3FFT",
        "outputId": "e1413538-048d-48cc-cc47-8127a8e1dd27"
      },
      "outputs": [
        {
          "name": "stdout",
          "output_type": "stream",
          "text": [
            "sum of 12 and 23 is 35\n",
            "sum of spider and web is spiderweb\n"
          ]
        }
      ],
      "source": [
        "add(12,23)\n",
        "add('spider','web')"
      ]
    },
    {
      "cell_type": "markdown",
      "metadata": {
        "id": "A5SfQaUl5ACk"
      },
      "source": [
        "Function with Return type"
      ]
    },
    {
      "cell_type": "code",
      "execution_count": 17,
      "metadata": {
        "id": "U--nTarH5Czh"
      },
      "outputs": [],
      "source": [
        "def calcsqr(n:int):\n",
        "  sq=n*n\n",
        "  #print(f'square of {n} is {sq}')\n",
        "  return sq"
      ]
    },
    {
      "cell_type": "code",
      "execution_count": null,
      "metadata": {
        "colab": {
          "base_uri": "https://localhost:8080/"
        },
        "id": "kHHNNzGN5ZQB",
        "outputId": "70e51542-6021-4c5a-cc2f-0b60a0265792"
      },
      "outputs": [
        {
          "name": "stdout",
          "output_type": "stream",
          "text": [
            "square is 144\n",
            "result is even\n"
          ]
        }
      ],
      "source": [
        "s=calcsqr(12)\n",
        "print(f'square is {s}')\n",
        "\n",
        "if s%2==1:\n",
        "  print('result is odd')\n",
        "else:\n",
        "  print('result is even')"
      ]
    },
    {
      "cell_type": "markdown",
      "metadata": {
        "id": "54YQe4B07JR4"
      },
      "source": [
        "Function with default parameter value"
      ]
    },
    {
      "cell_type": "code",
      "execution_count": 23,
      "metadata": {
        "id": "2PUhDUHh7RmI"
      },
      "outputs": [],
      "source": [
        "def greet(usernm='sharayu'):\n",
        "  print(f'Hi {usernm}, hope you are fine.')"
      ]
    },
    {
      "cell_type": "code",
      "execution_count": 26,
      "metadata": {
        "colab": {
          "base_uri": "https://localhost:8080/"
        },
        "id": "VObK7k2y7g6I",
        "outputId": "851106b8-a341-44b1-943f-ff5500e6b244"
      },
      "outputs": [
        {
          "name": "stdout",
          "output_type": "stream",
          "text": [
            "Hi pat cummins, hope you are fine.\n",
            "Hi jos buttler, hope you are fine.\n",
            "Hi sharayu, hope you are fine.\n"
          ]
        }
      ],
      "source": [
        "greet('pat cummins')\n",
        "greet('jos buttler')\n",
        "greet()"
      ]
    },
    {
      "cell_type": "code",
      "execution_count": 27,
      "metadata": {
        "id": "6U0Tp9H58CJE"
      },
      "outputs": [],
      "source": [
        "def sayhello(nm,city='london'):\n",
        "  print(f'hello {nm} attending from {city}')"
      ]
    },
    {
      "cell_type": "code",
      "execution_count": 29,
      "metadata": {
        "colab": {
          "base_uri": "https://localhost:8080/"
        },
        "id": "fe-XVS118Qle",
        "outputId": "32f667d0-cf95-4983-8b9c-c74ab09b392e"
      },
      "outputs": [
        {
          "name": "stdout",
          "output_type": "stream",
          "text": [
            "hello praffull attending from london\n",
            "hello shailaja attending from dubai\n"
          ]
        }
      ],
      "source": [
        "sayhello('praffull')\n",
        "sayhello('shailaja','dubai')"
      ]
    },
    {
      "cell_type": "markdown",
      "metadata": {
        "id": "fWuy_B-J9G-A"
      },
      "source": [
        "Function with variable arguments"
      ]
    },
    {
      "cell_type": "code",
      "execution_count": 37,
      "metadata": {
        "id": "4r1PraQp9Vc7"
      },
      "outputs": [],
      "source": [
        "def sum_all(*numbers):\n",
        "  print(type(numbers))\n",
        "  return sum(numbers)"
      ]
    },
    {
      "cell_type": "code",
      "execution_count": 38,
      "metadata": {
        "colab": {
          "base_uri": "https://localhost:8080/"
        },
        "id": "ZQ0t4F719hdB",
        "outputId": "7081d599-4024-48a2-8adb-82b81a325904"
      },
      "outputs": [
        {
          "name": "stdout",
          "output_type": "stream",
          "text": [
            "<class 'tuple'>\n",
            "sum is 124\n",
            "<class 'tuple'>\n",
            "sum is 37\n"
          ]
        }
      ],
      "source": [
        "res=sum_all(23,45,56)\n",
        "print(f'sum is {res}')\n",
        "\n",
        "res=sum_all(5,1,7,11,4,9)\n",
        "print(f'sum is {res}')\n"
      ]
    },
    {
      "cell_type": "code",
      "execution_count": 39,
      "metadata": {
        "id": "98h8eOdn-j7o"
      },
      "outputs": [],
      "source": [
        "def goodbye(*studnm):\n",
        "  for nm in studnm:\n",
        "    print(f'Good bye {nm}')"
      ]
    },
    {
      "cell_type": "code",
      "execution_count": 41,
      "metadata": {
        "colab": {
          "base_uri": "https://localhost:8080/"
        },
        "id": "B4shswE1-yuk",
        "outputId": "038ff462-ceb8-4350-e481-760af2c7c269"
      },
      "outputs": [
        {
          "name": "stdout",
          "output_type": "stream",
          "text": [
            "Good bye aditi\n",
            "Good bye praffull\n",
            "Good bye soham\n",
            "Good bye sharayu\n"
          ]
        }
      ],
      "source": [
        "goodbye('aditi','praffull','soham','sharayu')"
      ]
    },
    {
      "cell_type": "markdown",
      "metadata": {
        "id": "pGxo8tWG_KQ7"
      },
      "source": [
        "**Function with multiple return values**"
      ]
    },
    {
      "cell_type": "code",
      "execution_count": 42,
      "metadata": {
        "id": "TZfVPCFi_M45"
      },
      "outputs": [],
      "source": [
        "def ops(x,y):\n",
        "  return x+y, x-y, x*y"
      ]
    },
    {
      "cell_type": "code",
      "execution_count": 43,
      "metadata": {
        "colab": {
          "base_uri": "https://localhost:8080/"
        },
        "id": "GJjVxkxt_fIS",
        "outputId": "b2fddaaf-156c-45bc-ea1b-aa5740603032"
      },
      "outputs": [
        {
          "name": "stdout",
          "output_type": "stream",
          "text": [
            "(22, -4, 117)\n"
          ]
        }
      ],
      "source": [
        "res=ops(9,13)\n",
        "print(res)"
      ]
    }
  ],
  "metadata": {
    "colab": {
      "provenance": []
    },
    "kernelspec": {
      "display_name": "Python 3",
      "name": "python3"
    },
    "language_info": {
      "codemirror_mode": {
        "name": "ipython",
        "version": 3
      },
      "file_extension": ".py",
      "mimetype": "text/x-python",
      "name": "python",
      "nbconvert_exporter": "python",
      "pygments_lexer": "ipython3",
      "version": "3.13.5"
    }
  },
  "nbformat": 4,
  "nbformat_minor": 0
}
