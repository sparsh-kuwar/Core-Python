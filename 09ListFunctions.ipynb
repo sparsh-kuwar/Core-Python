{
  "cells": [
    {
      "cell_type": "code",
      "execution_count": 5,
      "metadata": {
        "colab": {
          "base_uri": "https://localhost:8080/"
        },
        "id": "xcvOT-mpcjxi",
        "outputId": "1867fa13-7e53-4af6-8524-267dd80fc89e"
      },
      "outputs": [
        {
          "name": "stdout",
          "output_type": "stream",
          "text": [
            "<class 'bool'>\n"
          ]
        }
      ],
      "source": [
        "x=9\n",
        "a=12.45\n",
        "b=''\n",
        "c=True\n",
        "print(type(c))"
      ]
    },
    {
      "cell_type": "code",
      "execution_count": null,
      "metadata": {
        "colab": {
          "base_uri": "https://localhost:8080/"
        },
        "id": "EDfi9jUHdBAR",
        "outputId": "c4b75a0c-7e9f-4c4b-83fd-50e75305508e"
      },
      "outputs": [
        {
          "name": "stdout",
          "output_type": "stream",
          "text": [
            "<class 'list'>\n",
            "['london', 'mumbai', 'dubai', 'london']\n"
          ]
        }
      ],
      "source": [
        "cities=[]\n",
        "print(type(cities))\n",
        "cities.append('london')\n",
        "cities.append('mumbai')\n",
        "cities.append('dubai')\n",
        "cities.append('london')\n",
        "print(cities)"
      ]
    },
    {
      "cell_type": "code",
      "execution_count": null,
      "metadata": {
        "colab": {
          "base_uri": "https://localhost:8080/"
        },
        "id": "X9-o_kKYfSEr",
        "outputId": "395ac6d7-e2e7-4130-c5e8-c3824a6fdde6"
      },
      "outputs": [
        {
          "name": "stdout",
          "output_type": "stream",
          "text": [
            "['java', 'python', 'sql', 'spring', 'pandas']\n",
            "['java', 'python', 'ai', 'sql', 'spring', 'pandas']\n",
            "['python', 'ai', 'sql', 'spring', 'pandas']\n",
            "[]\n"
          ]
        }
      ],
      "source": [
        "tech=['java','python','sql','spring','pandas']\n",
        "print(tech)\n",
        "tech.insert(2,'ai')\n",
        "print(tech)\n",
        "tech.remove('java')\n",
        "print(tech)\n",
        "tech.clear()\n",
        "print(tech)"
      ]
    },
    {
      "cell_type": "code",
      "execution_count": 2,
      "metadata": {
        "colab": {
          "base_uri": "https://localhost:8080/"
        },
        "id": "Z-Ns95I6hmWB",
        "outputId": "7feff710-1bb2-45db-a742-8f13f29e1013"
      },
      "outputs": [
        {
          "name": "stdout",
          "output_type": "stream",
          "text": [
            "['deu', 'sparsh', 'megha', 'soham', 'javed']\n",
            "javed\n",
            "['deu', 'sparsh', 'megha', 'soham']\n"
          ]
        }
      ],
      "source": [
        "nms=['deu','sparsh','megha','soham','javed']\n",
        "print(nms)\n",
        "print(nms.pop())\n",
        "print(nms)"
      ]
    },
    {
      "cell_type": "code",
      "execution_count": null,
      "metadata": {
        "colab": {
          "base_uri": "https://localhost:8080/"
        },
        "id": "4_eurZ0Girz_",
        "outputId": "013c7e14-e8fd-42f3-93ff-d471fe066cf1"
      },
      "outputs": [
        {
          "name": "stdout",
          "output_type": "stream",
          "text": [
            "['technology', 'is', 'power', 'technology', 'is', 'future']\n",
            "0\n"
          ]
        }
      ],
      "source": [
        "str='technology is power technology is future'\n",
        "lst=str.split()\n",
        "print(lst)\n",
        "print(lst.count('has'))"
      ]
    },
    {
      "cell_type": "code",
      "execution_count": null,
      "metadata": {
        "colab": {
          "base_uri": "https://localhost:8080/"
        },
        "id": "lWwP-SlakIH_",
        "outputId": "def82aa8-9c1a-4c2e-94f0-9aad99380166"
      },
      "outputs": [
        {
          "name": "stdout",
          "output_type": "stream",
          "text": [
            "['volkswagen', 'samsung', 'microsoft', 'dell', 'bmw', 'apple']\n"
          ]
        }
      ],
      "source": [
        "comp=['microsoft','volkswagen','apple','samsung','bmw','dell']\n",
        "#comp.sort()\n",
        "comp.sort(reverse=True)\n",
        "print(comp)"
      ]
    },
    {
      "cell_type": "code",
      "execution_count": null,
      "metadata": {
        "colab": {
          "base_uri": "https://localhost:8080/"
        },
        "id": "etD4szSMk76D",
        "outputId": "6288f442-e62d-43e5-d151-e9e7f0fc3b3b"
      },
      "outputs": [
        {
          "name": "stdout",
          "output_type": "stream",
          "text": [
            "['dell', 'bmw', 'samsung', 'apple', 'volkswagen', 'microsoft']\n"
          ]
        }
      ],
      "source": [
        "comp=['microsoft','volkswagen','apple','samsung','bmw','dell']\n",
        "comp.reverse()\n",
        "print(comp)"
      ]
    },
    {
      "cell_type": "code",
      "execution_count": null,
      "metadata": {
        "colab": {
          "base_uri": "https://localhost:8080/"
        },
        "id": "T8C4vjFSlZkd",
        "outputId": "3001d513-6276-4f5d-ac37-0573924c682b"
      },
      "outputs": [
        {
          "name": "stdout",
          "output_type": "stream",
          "text": [
            "<class 'list'>\n",
            "[1, 9, 11, 13, 18, 26, 45, 79]\n"
          ]
        }
      ],
      "source": [
        "nums=[9,26,1,13,45,79,18,11]\n",
        "print(type(nums))\n",
        "nums.sort()\n",
        "print(nums)"
      ]
    },
    {
      "cell_type": "code",
      "execution_count": 1,
      "metadata": {
        "colab": {
          "base_uri": "https://localhost:8080/"
        },
        "id": "3wX3En_7mB0l",
        "outputId": "5ccc8749-622a-4be1-f3f2-2b2071660223"
      },
      "outputs": [
        {
          "name": "stdout",
          "output_type": "stream",
          "text": [
            "[9, 'sparsh', 13.26, False]\n",
            "<class 'int'>\n",
            "<class 'str'>\n",
            "<class 'float'>\n",
            "<class 'bool'>\n"
          ]
        }
      ],
      "source": [
        "lst=[9,'sparsh',13.26,False]\n",
        "print(lst)\n",
        "\n",
        "for i in range(0,4):\n",
        "  print(type(lst[i]))"
      ]
    }
  ],
  "metadata": {
    "colab": {
      "provenance": []
    },
    "kernelspec": {
      "display_name": "Python 3",
      "name": "python3"
    },
    "language_info": {
      "codemirror_mode": {
        "name": "ipython",
        "version": 3
      },
      "file_extension": ".py",
      "mimetype": "text/x-python",
      "name": "python",
      "nbconvert_exporter": "python",
      "pygments_lexer": "ipython3",
      "version": "3.13.5"
    }
  },
  "nbformat": 4,
  "nbformat_minor": 0
}
