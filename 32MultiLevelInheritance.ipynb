{
  "nbformat": 4,
  "nbformat_minor": 0,
  "metadata": {
    "colab": {
      "provenance": []
    },
    "kernelspec": {
      "name": "python3",
      "display_name": "Python 3"
    },
    "language_info": {
      "name": "python"
    }
  },
  "cells": [
    {
      "cell_type": "code",
      "execution_count": null,
      "metadata": {
        "id": "mm2c__4S32Xv"
      },
      "outputs": [],
      "source": [
        "class One:\n",
        "  def calcsquare(self,n):\n",
        "    sq=n*n\n",
        "    print(f'square of {n} is {sq}')"
      ]
    },
    {
      "cell_type": "code",
      "source": [
        "class Two(One):\n",
        "  def add(self,a,b):\n",
        "    res=a+b\n",
        "    print(f'sum of {a} and {b} is {res}')"
      ],
      "metadata": {
        "id": "9dBliGNZ3_Fu"
      },
      "execution_count": null,
      "outputs": []
    },
    {
      "cell_type": "code",
      "source": [
        "class Three(Two):\n",
        "  def multiply(self,x,y):\n",
        "    res=x*y\n",
        "    print(f'multiplication of {x} and {y} is {res}')"
      ],
      "metadata": {
        "id": "NuCbhlfU4EzH"
      },
      "execution_count": null,
      "outputs": []
    },
    {
      "cell_type": "code",
      "source": [
        "obj=Three()\n",
        "obj.multiply(15,9)\n",
        "obj.add(33,77)\n",
        "obj.calcsquare(25)"
      ],
      "metadata": {
        "colab": {
          "base_uri": "https://localhost:8080/"
        },
        "id": "tbo5Iydq4XZp",
        "outputId": "6ddd0f73-e33b-4ed2-8046-70ea5f7e9529"
      },
      "execution_count": null,
      "outputs": [
        {
          "output_type": "stream",
          "name": "stdout",
          "text": [
            "multiplication of 15 and 9 is 135\n",
            "sum of 33 and 77 is 110\n",
            "square of 25 is 625\n"
          ]
        }
      ]
    }
  ]
}