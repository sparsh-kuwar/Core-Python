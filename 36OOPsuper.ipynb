{
  "cells": [
    {
      "cell_type": "markdown",
      "metadata": {
        "id": "oiFZF8G7InHk"
      },
      "source": [
        "super() is used to call the constructor of the base class from the constructor of the derived class"
      ]
    },
    {
      "cell_type": "code",
      "execution_count": 1,
      "metadata": {
        "id": "SEkQWUixGPrF"
      },
      "outputs": [],
      "source": [
        "class Sparsh:\n",
        "  def __init__(self,name):\n",
        "    print(f'Hello {name} from constructor of base')"
      ]
    },
    {
      "cell_type": "code",
      "execution_count": 2,
      "metadata": {
        "id": "z1j_t3vAGnru"
      },
      "outputs": [],
      "source": [
        "class Soham(Sparsh):\n",
        "  def __init__(self,name):\n",
        "    super().__init__(name)\n",
        "    print(f'Bye {name} from constructor of derived')"
      ]
    },
    {
      "cell_type": "code",
      "execution_count": 3,
      "metadata": {
        "colab": {
          "base_uri": "https://localhost:8080/"
        },
        "id": "duIPAnpdHDoM",
        "outputId": "370b10ac-fbc5-4cd4-f96d-6b307d6ee92f"
      },
      "outputs": [
        {
          "name": "stdout",
          "output_type": "stream",
          "text": [
            "Hello sharayu from constructor of base\n",
            "Bye sharayu from constructor of derived\n"
          ]
        }
      ],
      "source": [
        "obj=Soham('sharayu')"
      ]
    }
  ],
  "metadata": {
    "colab": {
      "provenance": []
    },
    "kernelspec": {
      "display_name": "Python 3",
      "name": "python3"
    },
    "language_info": {
      "codemirror_mode": {
        "name": "ipython",
        "version": 3
      },
      "file_extension": ".py",
      "mimetype": "text/x-python",
      "name": "python",
      "nbconvert_exporter": "python",
      "pygments_lexer": "ipython3",
      "version": "3.13.5"
    }
  },
  "nbformat": 4,
  "nbformat_minor": 0
}
