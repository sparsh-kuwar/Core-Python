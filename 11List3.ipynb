{
  "nbformat": 4,
  "nbformat_minor": 0,
  "metadata": {
    "colab": {
      "provenance": []
    },
    "kernelspec": {
      "name": "python3",
      "display_name": "Python 3"
    },
    "language_info": {
      "name": "python"
    }
  },
  "cells": [
    {
      "cell_type": "code",
      "execution_count": 1,
      "metadata": {
        "colab": {
          "base_uri": "https://localhost:8080/"
        },
        "id": "wTrRDILaq175",
        "outputId": "de26e4d3-1948-4073-9c0c-df511f25f6b1"
      },
      "outputs": [
        {
          "output_type": "stream",
          "name": "stdout",
          "text": [
            "['football', 'cricket', 'formula-1', ['mohammed salah', 'joe root', 'charles leclerc']]\n"
          ]
        }
      ],
      "source": [
        "sports=['football','cricket','formula-1',['mohammed salah','joe root','charles leclerc']]\n",
        "print(sports)"
      ]
    },
    {
      "cell_type": "code",
      "source": [
        "print(sports[2])\n",
        "print(sports[3])\n",
        "print(sports[3][1])"
      ],
      "metadata": {
        "colab": {
          "base_uri": "https://localhost:8080/"
        },
        "id": "L-z3S4wUrfVl",
        "outputId": "f252df6d-8d63-4e2f-f3c1-0ce330c14f4d"
      },
      "execution_count": 4,
      "outputs": [
        {
          "output_type": "stream",
          "name": "stdout",
          "text": [
            "formula-1\n",
            "['mohammed salah', 'joe root', 'charles leclerc']\n",
            "joe root\n"
          ]
        }
      ]
    },
    {
      "cell_type": "code",
      "source": [
        "sports.append('tennis')\n",
        "print(sports)\n",
        "sports[3].append('steve smith')\n",
        "print(sports)"
      ],
      "metadata": {
        "colab": {
          "base_uri": "https://localhost:8080/"
        },
        "id": "CiMB3NJpsGNL",
        "outputId": "7694a909-f81e-4738-d753-020d561f050c"
      },
      "execution_count": 6,
      "outputs": [
        {
          "output_type": "stream",
          "name": "stdout",
          "text": [
            "['football', 'cricket', 'formula-1', ['mohammed salah', 'joe root', 'charles leclerc'], 'tennis', 'tennis']\n",
            "['football', 'cricket', 'formula-1', ['mohammed salah', 'joe root', 'charles leclerc', 'steve smith'], 'tennis', 'tennis']\n"
          ]
        }
      ]
    },
    {
      "cell_type": "code",
      "source": [
        "lst=[\n",
        "    [12,23,34,45],\n",
        "    [65,43,32,21],\n",
        "    [78,45,98,82]\n",
        "]"
      ],
      "metadata": {
        "id": "cKm_uvjMsxPE"
      },
      "execution_count": 7,
      "outputs": []
    },
    {
      "cell_type": "code",
      "source": [
        "print(lst[1][3])"
      ],
      "metadata": {
        "colab": {
          "base_uri": "https://localhost:8080/"
        },
        "id": "Lh5C5ygttBvl",
        "outputId": "8444c437-051b-4c0b-e629-478424bb69e6"
      },
      "execution_count": 8,
      "outputs": [
        {
          "output_type": "stream",
          "name": "stdout",
          "text": [
            "21\n"
          ]
        }
      ]
    }
  ]
}