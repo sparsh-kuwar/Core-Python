{
  "nbformat": 4,
  "nbformat_minor": 0,
  "metadata": {
    "colab": {
      "provenance": []
    },
    "kernelspec": {
      "name": "python3",
      "display_name": "Python 3"
    },
    "language_info": {
      "name": "python"
    }
  },
  "cells": [
    {
      "cell_type": "markdown",
      "source": [
        "create a new list having squares of the numbers in first list"
      ],
      "metadata": {
        "id": "QeJKatZ9wV6e"
      }
    },
    {
      "cell_type": "code",
      "execution_count": null,
      "metadata": {
        "colab": {
          "base_uri": "https://localhost:8080/"
        },
        "id": "EVcsWQRBwJa1",
        "outputId": "bc6c9107-d338-48cb-d29a-595a574488bb"
      },
      "outputs": [
        {
          "output_type": "stream",
          "name": "stdout",
          "text": [
            "[81, 169, 676, 1, 2025, 100, 900, 225, 121, 625]\n"
          ]
        }
      ],
      "source": [
        "lst=[9,13,26,1,45,10,30,15,11,25]\n",
        "sq=[]\n",
        "for n in lst:\n",
        "  sq.append(n*n)\n",
        "\n",
        "print(sq)"
      ]
    },
    {
      "cell_type": "code",
      "source": [
        "lst=[9,13,26,1,45,10,30,15,11,25]\n",
        "sq=[n*n for n in lst]\n",
        "print(sq)"
      ],
      "metadata": {
        "colab": {
          "base_uri": "https://localhost:8080/"
        },
        "id": "lhn98i-BxcHF",
        "outputId": "5f5c045b-a642-4383-91ac-430f56b7616c"
      },
      "execution_count": null,
      "outputs": [
        {
          "output_type": "stream",
          "name": "stdout",
          "text": [
            "[81, 169, 676, 1, 2025, 100, 900, 225, 121, 625]\n"
          ]
        }
      ]
    },
    {
      "cell_type": "code",
      "source": [
        "lst=['praffull','sharayu','soham']\n",
        "u=[nm.upper() for nm in lst]\n",
        "print(u)"
      ],
      "metadata": {
        "colab": {
          "base_uri": "https://localhost:8080/"
        },
        "id": "fmBSWgnQyzd0",
        "outputId": "2b626436-522c-4805-fb27-a7ec298cb345"
      },
      "execution_count": null,
      "outputs": [
        {
          "output_type": "stream",
          "name": "stdout",
          "text": [
            "['PRAFFULL', 'SHARAYU', 'SOHAM']\n"
          ]
        }
      ]
    },
    {
      "cell_type": "markdown",
      "source": [
        "create a list of odd numbers from the provided list values"
      ],
      "metadata": {
        "id": "MS1rH0JIzKk8"
      }
    },
    {
      "cell_type": "code",
      "source": [
        "lst=[9,13,26,1,45,10,30,15,18,25]\n",
        "odd=[x for x in lst if x%2==1]\n",
        "print('Odd numbers in the list - ')\n",
        "print(odd)"
      ],
      "metadata": {
        "colab": {
          "base_uri": "https://localhost:8080/"
        },
        "id": "m6hqHkzSzYlQ",
        "outputId": "4eebc4af-80dd-4eff-a0e5-b60e2bd5c3f5"
      },
      "execution_count": null,
      "outputs": [
        {
          "output_type": "stream",
          "name": "stdout",
          "text": [
            "Odd numbers in the list - \n",
            "[9, 13, 1, 45, 15, 25]\n"
          ]
        }
      ]
    },
    {
      "cell_type": "code",
      "source": [
        "lst=[9,13,26,1,45,10,30,15,18,25]\n",
        "even=[x for x in lst if x%2==0]\n",
        "print(even)"
      ],
      "metadata": {
        "colab": {
          "base_uri": "https://localhost:8080/"
        },
        "id": "w-eBlqYy09Fb",
        "outputId": "373880d2-811c-437b-e4a5-15cc96a5b50e"
      },
      "execution_count": null,
      "outputs": [
        {
          "output_type": "stream",
          "name": "stdout",
          "text": [
            "[26, 10, 30, 18]\n"
          ]
        }
      ]
    },
    {
      "cell_type": "code",
      "source": [
        "lst=[9,-13,26,1,45,-10,30,15,-18,25]\n",
        "neg=[x for x in lst if x<0]\n",
        "print(neg)"
      ],
      "metadata": {
        "colab": {
          "base_uri": "https://localhost:8080/"
        },
        "id": "9AIJ17Fy1U_c",
        "outputId": "f2d9873d-d1f0-40fa-b6a0-d1d9be4b7eea"
      },
      "execution_count": null,
      "outputs": [
        {
          "output_type": "stream",
          "name": "stdout",
          "text": [
            "[-13, -10, -18]\n"
          ]
        }
      ]
    },
    {
      "cell_type": "markdown",
      "source": [
        "numbers fully divisible by 3"
      ],
      "metadata": {
        "id": "Lnoa5Ti615xw"
      }
    },
    {
      "cell_type": "code",
      "source": [
        "lst=[9,13,26,1,45,10,30,15,18,25]\n",
        "res=[x for x in lst if x%3==0]\n",
        "print(res)"
      ],
      "metadata": {
        "colab": {
          "base_uri": "https://localhost:8080/"
        },
        "id": "sba4_zL61nAI",
        "outputId": "a97c6061-f8e5-430c-89fe-725ba608c126"
      },
      "execution_count": null,
      "outputs": [
        {
          "output_type": "stream",
          "name": "stdout",
          "text": [
            "[9, 45, 30, 15, 18]\n"
          ]
        }
      ]
    },
    {
      "cell_type": "code",
      "source": [
        "l1=[2,14,25,57,13]\n",
        "l2=[1,5,2,13,9,26,14]\n",
        "common=[x for x in l1 if x in l2]\n",
        "print(common)"
      ],
      "metadata": {
        "colab": {
          "base_uri": "https://localhost:8080/"
        },
        "id": "gISDgVuH2A1l",
        "outputId": "d9a330c9-688c-4d44-96de-e3b6be477afd"
      },
      "execution_count": null,
      "outputs": [
        {
          "output_type": "stream",
          "name": "stdout",
          "text": [
            "[2, 14, 13]\n"
          ]
        }
      ]
    },
    {
      "cell_type": "code",
      "source": [
        "l1=[2,14,25,57,13]\n",
        "l2=[1,5,2,13,9,26,14]\n",
        "uncommon=[x for x in l1 if x not in l2]\n",
        "print(uncommon)"
      ],
      "metadata": {
        "colab": {
          "base_uri": "https://localhost:8080/"
        },
        "id": "S3x9sH1z3u4A",
        "outputId": "66c7254a-1d33-4832-dfdb-14d3e65636a0"
      },
      "execution_count": 12,
      "outputs": [
        {
          "output_type": "stream",
          "name": "stdout",
          "text": [
            "[25, 57]\n"
          ]
        }
      ]
    },
    {
      "cell_type": "code",
      "source": [
        "nm1=['jos buttler','joe root','mohammed salah','pat cummins']\n",
        "nm2=['steve smith','ben stokes','joe root','mitchell stark','charles leclerc']\n",
        "common=[x for x in nm1 if x in nm2]\n",
        "print(common)"
      ],
      "metadata": {
        "colab": {
          "base_uri": "https://localhost:8080/"
        },
        "id": "BKYV0Jnk37Bd",
        "outputId": "8a9716c1-a50b-4978-ba95-af99c88f7f4b"
      },
      "execution_count": 13,
      "outputs": [
        {
          "output_type": "stream",
          "name": "stdout",
          "text": [
            "['joe root']\n"
          ]
        }
      ]
    }
  ]
}