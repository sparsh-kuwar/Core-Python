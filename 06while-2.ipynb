{
  "cells": [
    {
      "cell_type": "markdown",
      "metadata": {
        "id": "BR5Jjvmn_WnU"
      },
      "source": [
        "Repeat statements under a condition"
      ]
    },
    {
      "cell_type": "code",
      "execution_count": 1,
      "metadata": {
        "colab": {
          "base_uri": "https://localhost:8080/"
        },
        "id": "8HUUPlj__Uhe",
        "outputId": "57076c94-378b-47de-f8d7-bcbe9a4d43fd"
      },
      "outputs": [
        {
          "name": "stdout",
          "output_type": "stream",
          "text": [
            "thanks \n"
          ]
        }
      ],
      "source": [
        "choice='yes'\n",
        "while choice=='yes':\n",
        "  nm=input('Enter your name : ')\n",
        "  print(f'thanks {nm}')\n",
        "  choice=input('Do you want to continue : (yes/no) ')"
      ]
    }
  ],
  "metadata": {
    "colab": {
      "provenance": []
    },
    "kernelspec": {
      "display_name": "Python 3",
      "name": "python3"
    },
    "language_info": {
      "codemirror_mode": {
        "name": "ipython",
        "version": 3
      },
      "file_extension": ".py",
      "mimetype": "text/x-python",
      "name": "python",
      "nbconvert_exporter": "python",
      "pygments_lexer": "ipython3",
      "version": "3.13.5"
    }
  },
  "nbformat": 4,
  "nbformat_minor": 0
}
