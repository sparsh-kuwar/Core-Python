{
  "nbformat": 4,
  "nbformat_minor": 0,
  "metadata": {
    "colab": {
      "provenance": []
    },
    "kernelspec": {
      "name": "python3",
      "display_name": "Python 3"
    },
    "language_info": {
      "name": "python"
    }
  },
  "cells": [
    {
      "cell_type": "code",
      "execution_count": 11,
      "metadata": {
        "id": "iHTXH1-ruvvC"
      },
      "outputs": [],
      "source": [
        "class Student:\n",
        "  studname=None  # data member of the class\n",
        "\n",
        "  def store(self):\n",
        "    studname='soham' #local variable of the function\n",
        "    self.studname='sharayu' #assign data to global variable\n",
        "\n",
        "  def show(self):\n",
        "    print(f'Name : {self.studname}') #we can only print the data member value\n",
        ""
      ]
    },
    {
      "cell_type": "code",
      "source": [
        "s=Student()\n",
        "s.store()\n",
        "s.show()"
      ],
      "metadata": {
        "colab": {
          "base_uri": "https://localhost:8080/"
        },
        "id": "KQJyQ5VXvLdF",
        "outputId": "a095d82b-2e12-405c-aacd-756802ab70e9"
      },
      "execution_count": 12,
      "outputs": [
        {
          "output_type": "stream",
          "name": "stdout",
          "text": [
            "Name : sharayu\n"
          ]
        }
      ]
    },
    {
      "cell_type": "code",
      "source": [
        "class Player:\n",
        "  name=None\n",
        "  country=None\n",
        "  def acceptvalues(self):\n",
        "    self.name=input('Enter Player Name : ')\n",
        "    country=input('Enter country : ')\n",
        "    self.country=country\n",
        "\n",
        "  def showvalues(self):\n",
        "    print(f'Name : {self.name}')\n",
        "    print(f'Country : {self.country}')\n"
      ],
      "metadata": {
        "id": "Gl7TmJFQxC0d"
      },
      "execution_count": 20,
      "outputs": []
    },
    {
      "cell_type": "code",
      "source": [
        "p=Player()\n",
        "p.acceptvalues()\n",
        "p.showvalues()"
      ],
      "metadata": {
        "colab": {
          "base_uri": "https://localhost:8080/"
        },
        "id": "Tis6yWdKxwY-",
        "outputId": "a6911fb4-539c-455c-da91-0dbf976f6daf"
      },
      "execution_count": 21,
      "outputs": [
        {
          "output_type": "stream",
          "name": "stdout",
          "text": [
            "Enter Player Name : pat cummins\n",
            "Enter country : australia\n",
            "Name : pat cummins\n",
            "Country : australia\n"
          ]
        }
      ]
    }
  ]
}