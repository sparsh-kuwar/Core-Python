{
  "nbformat": 4,
  "nbformat_minor": 0,
  "metadata": {
    "colab": {
      "provenance": []
    },
    "kernelspec": {
      "name": "python3",
      "display_name": "Python 3"
    },
    "language_info": {
      "name": "python"
    }
  },
  "cells": [
    {
      "cell_type": "code",
      "execution_count": 2,
      "metadata": {
        "id": "mm2c__4S32Xv"
      },
      "outputs": [],
      "source": [
        "class One:\n",
        "  def calcsquare(self,n):\n",
        "    sq=n*n\n",
        "    print(f'square of {n} is {sq}')"
      ]
    },
    {
      "cell_type": "code",
      "source": [
        "class Two(One):\n",
        "  def add(self,a,b):\n",
        "    res=a+b\n",
        "    print(f'sum of {a} and {b} is {res}')"
      ],
      "metadata": {
        "id": "9dBliGNZ3_Fu"
      },
      "execution_count": 3,
      "outputs": []
    },
    {
      "cell_type": "code",
      "source": [
        "class Three(One):\n",
        "  def multiply(self,x,y):\n",
        "    res=x*y\n",
        "    print(f'multiplication of {x} and {y} is {res}')"
      ],
      "metadata": {
        "id": "NuCbhlfU4EzH"
      },
      "execution_count": 4,
      "outputs": []
    },
    {
      "cell_type": "code",
      "source": [
        "o2=Two()\n",
        "o2.add(12,23)\n",
        "o2.calcsquare(55)\n",
        "# o2.multiple(4,7)"
      ],
      "metadata": {
        "colab": {
          "base_uri": "https://localhost:8080/"
        },
        "id": "7NQA72ksAj5G",
        "outputId": "c5ff922d-6e44-4640-cc85-f6deb54eed0f"
      },
      "execution_count": 7,
      "outputs": [
        {
          "output_type": "stream",
          "name": "stdout",
          "text": [
            "sum of 12 and 23 is 35\n",
            "square of 55 is 3025\n"
          ]
        }
      ]
    },
    {
      "cell_type": "code",
      "source": [
        "o3=Three()\n",
        "o3.calcsquare(44)\n",
        "o3.multiply(75,5)"
      ],
      "metadata": {
        "colab": {
          "base_uri": "https://localhost:8080/"
        },
        "id": "heJ0-qckBAkj",
        "outputId": "c523801b-769d-454b-db64-85eb212060de"
      },
      "execution_count": 8,
      "outputs": [
        {
          "output_type": "stream",
          "name": "stdout",
          "text": [
            "square of 44 is 1936\n",
            "multiplication of 75 and 5 is 375\n"
          ]
        }
      ]
    }
  ]
}