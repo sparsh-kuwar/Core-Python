{
  "nbformat": 4,
  "nbformat_minor": 0,
  "metadata": {
    "colab": {
      "provenance": []
    },
    "kernelspec": {
      "name": "python3",
      "display_name": "Python 3"
    },
    "language_info": {
      "name": "python"
    }
  },
  "cells": [
    {
      "cell_type": "code",
      "source": [
        "dic={\n",
        "    \"custnm\":\"sharayu\",\n",
        "    \"product\":\"laptop\",\n",
        "    \"model\":\"latitude 5490\",\n",
        "    \"brand\":\"dell\",\n",
        "    \"price\":79500.00\n",
        "}\n",
        "print(dic)"
      ],
      "metadata": {
        "colab": {
          "base_uri": "https://localhost:8080/"
        },
        "id": "YubRI648oqfq",
        "outputId": "f8ebd064-86bb-47dd-f3a5-668cb7b677fe"
      },
      "execution_count": 6,
      "outputs": [
        {
          "output_type": "stream",
          "name": "stdout",
          "text": [
            "{'custnm': 'sharayu', 'product': 'laptop', 'model': 'latitude 5490', 'brand': 'dell', 'price': 79500.0}\n"
          ]
        }
      ]
    },
    {
      "cell_type": "code",
      "source": [
        "dic[\"paymode\"]=\"credit card\"\n",
        "print(dic)"
      ],
      "metadata": {
        "colab": {
          "base_uri": "https://localhost:8080/"
        },
        "id": "jb7sbPPlpPYG",
        "outputId": "f0e47a5c-5acb-4f2e-e335-d52cb1c280cd"
      },
      "execution_count": 7,
      "outputs": [
        {
          "output_type": "stream",
          "name": "stdout",
          "text": [
            "{'custnm': 'sharayu', 'product': 'laptop', 'model': 'latitude 5490', 'brand': 'dell', 'price': 79500.0, 'paymode': 'credit card'}\n"
          ]
        }
      ]
    },
    {
      "cell_type": "code",
      "source": [
        "dic[\"brand\"]=\"hp\"\n",
        "print(dic)"
      ],
      "metadata": {
        "colab": {
          "base_uri": "https://localhost:8080/"
        },
        "id": "fvf-F2G1pjhi",
        "outputId": "4fc96b96-dfff-4697-d7b0-40a1549add64"
      },
      "execution_count": 8,
      "outputs": [
        {
          "output_type": "stream",
          "name": "stdout",
          "text": [
            "{'custnm': 'sharayu', 'product': 'laptop', 'model': 'latitude 5490', 'brand': 'hp', 'price': 79500.0, 'paymode': 'credit card'}\n"
          ]
        }
      ]
    },
    {
      "cell_type": "code",
      "source": [
        "print(dic[\"custnm\"])"
      ],
      "metadata": {
        "colab": {
          "base_uri": "https://localhost:8080/"
        },
        "id": "JyChZ-JzqAeO",
        "outputId": "4b018c91-74b1-4cc1-fdd1-2281fe06f104"
      },
      "execution_count": 9,
      "outputs": [
        {
          "output_type": "stream",
          "name": "stdout",
          "text": [
            "sharayu\n"
          ]
        }
      ]
    },
    {
      "cell_type": "code",
      "source": [
        "print(dic[\"model\"])"
      ],
      "metadata": {
        "colab": {
          "base_uri": "https://localhost:8080/"
        },
        "id": "eTXMAtuMqDui",
        "outputId": "4ed1108e-ab29-4c8f-ba12-fde43ef021ac"
      },
      "execution_count": 10,
      "outputs": [
        {
          "output_type": "stream",
          "name": "stdout",
          "text": [
            "latitude 5490\n"
          ]
        }
      ]
    }
  ]
}