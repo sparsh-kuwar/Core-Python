{
  "nbformat": 4,
  "nbformat_minor": 0,
  "metadata": {
    "colab": {
      "provenance": []
    },
    "kernelspec": {
      "name": "python3",
      "display_name": "Python 3"
    },
    "language_info": {
      "name": "python"
    }
  },
  "cells": [
    {
      "cell_type": "markdown",
      "source": [
        "**if statement**"
      ],
      "metadata": {
        "id": "xOCp7k9BxM0P"
      }
    },
    {
      "cell_type": "code",
      "execution_count": null,
      "metadata": {
        "colab": {
          "base_uri": "https://localhost:8080/"
        },
        "id": "bW58aBGexLF4",
        "outputId": "af40168a-493c-4066-9729-189a3bab49a6"
      },
      "outputs": [
        {
          "output_type": "stream",
          "name": "stdout",
          "text": [
            "Enter marks out of 100 : 26\n",
            "sorry\n",
            "you are fail\n"
          ]
        }
      ],
      "source": [
        "marks=int(input('Enter marks out of 100 : '))\n",
        "\n",
        "if marks>=35:\n",
        "  print('congratulations')\n",
        "  print('you are pass')\n",
        "else:\n",
        "  print('sorry')\n",
        "  print('you are fail')\n"
      ]
    },
    {
      "cell_type": "code",
      "source": [
        "amount=float(input('Enter purchase amount : '))\n",
        "if amount>=20000:\n",
        "  print('you will get 13% discount')\n",
        "  disc=amount*13/100\n",
        "else:\n",
        "  print('you will get 9% discount')\n",
        "  disc=amount*9/100\n",
        "print(f'Discount is {disc}')"
      ],
      "metadata": {
        "colab": {
          "base_uri": "https://localhost:8080/"
        },
        "id": "6iEcIthQyrdA",
        "outputId": "c9234b8a-f178-4a3e-fbdb-09948d5f474b"
      },
      "execution_count": null,
      "outputs": [
        {
          "output_type": "stream",
          "name": "stdout",
          "text": [
            "Enter purchase amount : 21000\n",
            "you will get 13% discount\n",
            "Discount is 2730.0\n"
          ]
        }
      ]
    },
    {
      "cell_type": "code",
      "source": [
        "age=int(input('Enter age : '))\n",
        "exp=int(input('Enter experience : '))\n",
        "if age<40 and exp>2:\n",
        "  print('selected for interview')\n",
        "else:\n",
        "  print('not selected')"
      ],
      "metadata": {
        "colab": {
          "base_uri": "https://localhost:8080/"
        },
        "id": "ecSSZXxH0o79",
        "outputId": "6f971a8c-1347-4776-b87f-5d67a02859f4"
      },
      "execution_count": null,
      "outputs": [
        {
          "output_type": "stream",
          "name": "stdout",
          "text": [
            "Enter age : 42\n",
            "Enter experience : 7\n",
            "not selected\n"
          ]
        }
      ]
    },
    {
      "cell_type": "code",
      "source": [
        "n=int(input('Enter a number : '))\n",
        "if n%2==0:\n",
        "  print('Number is Even')\n",
        "else:\n",
        "  print('Number is Odd')"
      ],
      "metadata": {
        "colab": {
          "base_uri": "https://localhost:8080/"
        },
        "id": "tsVkm2_w3B-_",
        "outputId": "3af61a73-8cdf-4a74-93d6-e683af9ff010"
      },
      "execution_count": 3,
      "outputs": [
        {
          "output_type": "stream",
          "name": "stdout",
          "text": [
            "Enter a number : 0\n",
            "Number is Even\n"
          ]
        }
      ]
    }
  ]
}