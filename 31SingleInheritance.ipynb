{
  "nbformat": 4,
  "nbformat_minor": 0,
  "metadata": {
    "colab": {
      "provenance": []
    },
    "kernelspec": {
      "name": "python3",
      "display_name": "Python 3"
    },
    "language_info": {
      "name": "python"
    }
  },
  "cells": [
    {
      "cell_type": "markdown",
      "source": [
        "1 Base - 1 Derived = Single inheritance"
      ],
      "metadata": {
        "id": "aisTb_NA3gAZ"
      }
    },
    {
      "cell_type": "code",
      "execution_count": 1,
      "metadata": {
        "id": "lo68KlDVz8Vv"
      },
      "outputs": [],
      "source": [
        "# base class / parent class / super class\n",
        "class One:\n",
        "  def calcsquare(self,n):\n",
        "    sq=n*n\n",
        "    print(f'square of {n} is {sq}')"
      ]
    },
    {
      "cell_type": "code",
      "source": [
        "# derived class / child class / sub class\n",
        "class Two(One):\n",
        "  def add(self,a,b):\n",
        "    res=a+b\n",
        "    print(f'sum of {a} and {b} is {res}')"
      ],
      "metadata": {
        "id": "19Av7gmF0dvy"
      },
      "execution_count": 5,
      "outputs": []
    },
    {
      "cell_type": "code",
      "source": [
        "obj=Two()\n",
        "obj.add(25,79) # function of class Two - OWN\n",
        "obj.calcsquare(13) # function of class One - Inherited"
      ],
      "metadata": {
        "colab": {
          "base_uri": "https://localhost:8080/"
        },
        "id": "Hz2ONoTO0uyV",
        "outputId": "4845720d-c347-4bf2-9222-49adb18a8486"
      },
      "execution_count": 6,
      "outputs": [
        {
          "output_type": "stream",
          "name": "stdout",
          "text": [
            "sum of 25 and 79 is 104\n",
            "square of 13 is 169\n"
          ]
        }
      ]
    }
  ]
}