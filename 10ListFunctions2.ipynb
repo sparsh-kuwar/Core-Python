{
  "nbformat": 4,
  "nbformat_minor": 0,
  "metadata": {
    "colab": {
      "provenance": []
    },
    "kernelspec": {
      "name": "python3",
      "display_name": "Python 3"
    },
    "language_info": {
      "name": "python"
    }
  },
  "cells": [
    {
      "cell_type": "code",
      "execution_count": 1,
      "metadata": {
        "id": "tanLj5TfnM6n"
      },
      "outputs": [],
      "source": [
        "films=['the matrix','speed','pk','mission impossible']\n",
        "actors=['keanu reeves','amir khan','tom cruise']"
      ]
    },
    {
      "cell_type": "code",
      "source": [
        "films.extend(actors)\n",
        "print(films)"
      ],
      "metadata": {
        "colab": {
          "base_uri": "https://localhost:8080/"
        },
        "id": "QMzOVaoznsOw",
        "outputId": "e660f5e1-7a2b-46f8-8ef6-64ec7378ddfe"
      },
      "execution_count": 2,
      "outputs": [
        {
          "output_type": "stream",
          "name": "stdout",
          "text": [
            "['the matrix', 'speed', 'pk', 'mission impossible', 'keanu reeves', 'amir khan', 'tom cruise']\n"
          ]
        }
      ]
    },
    {
      "cell_type": "markdown",
      "source": [
        "**Retrieve elements from a list**"
      ],
      "metadata": {
        "id": "4tqVE8SCoRHW"
      }
    },
    {
      "cell_type": "code",
      "source": [
        "print(films[3])\n",
        "print(films[1:5])\n",
        "print(films[2:])\n",
        "print(films[:5])\n",
        "print(films[-1])"
      ],
      "metadata": {
        "colab": {
          "base_uri": "https://localhost:8080/"
        },
        "id": "G5sDBi3boFtp",
        "outputId": "6fdd1a1c-7b11-4d47-b444-c6d908ac1213"
      },
      "execution_count": 7,
      "outputs": [
        {
          "output_type": "stream",
          "name": "stdout",
          "text": [
            "mission impossible\n",
            "['speed', 'pk', 'mission impossible', 'keanu reeves']\n",
            "['pk', 'mission impossible', 'keanu reeves', 'amir khan', 'tom cruise']\n",
            "['the matrix', 'speed', 'pk', 'mission impossible', 'keanu reeves']\n",
            "tom cruise\n"
          ]
        }
      ]
    },
    {
      "cell_type": "code",
      "source": [
        "print(films[::-1])"
      ],
      "metadata": {
        "colab": {
          "base_uri": "https://localhost:8080/"
        },
        "id": "fC2DPTJTqCMk",
        "outputId": "bd173ffa-42f1-4b9a-bbb5-0d5514a33dbc"
      },
      "execution_count": 8,
      "outputs": [
        {
          "output_type": "stream",
          "name": "stdout",
          "text": [
            "['tom cruise', 'amir khan', 'keanu reeves', 'mission impossible', 'pk', 'speed', 'the matrix']\n"
          ]
        }
      ]
    },
    {
      "cell_type": "code",
      "source": [
        "nm='sohamglobal'\n",
        "print(nm[::-1])"
      ],
      "metadata": {
        "colab": {
          "base_uri": "https://localhost:8080/"
        },
        "id": "GczCUeX2qUg5",
        "outputId": "fb139251-a628-4a85-a38f-0ab4d2599267"
      },
      "execution_count": 11,
      "outputs": [
        {
          "output_type": "stream",
          "name": "stdout",
          "text": [
            "labolgmahos\n"
          ]
        }
      ]
    }
  ]
}