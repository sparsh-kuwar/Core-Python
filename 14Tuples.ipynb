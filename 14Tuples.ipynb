{
  "nbformat": 4,
  "nbformat_minor": 0,
  "metadata": {
    "colab": {
      "provenance": []
    },
    "kernelspec": {
      "name": "python3",
      "display_name": "Python 3"
    },
    "language_info": {
      "name": "python"
    }
  },
  "cells": [
    {
      "cell_type": "code",
      "execution_count": 8,
      "metadata": {
        "colab": {
          "base_uri": "https://localhost:8080/"
        },
        "id": "WC6DvliiNJ9L",
        "outputId": "52d5c2c7-9c94-48b2-b6fd-f9cacacdadc2"
      },
      "outputs": [
        {
          "output_type": "stream",
          "name": "stdout",
          "text": [
            "<class 'tuple'>\n",
            "('lewis hamilton', 'charles leclerc', 'fernando alonso', 'max verstappen', 'charles leclerc')\n"
          ]
        }
      ],
      "source": [
        "nms=('lewis hamilton','charles leclerc','fernando alonso','max verstappen','charles leclerc')\n",
        "print(type(nms))\n",
        "print(nms)"
      ]
    },
    {
      "cell_type": "code",
      "source": [
        "print(nms[2])\n",
        "print(nms[2:])\n",
        "print(nms[:2])\n",
        "print(nms[-1])\n",
        "print(nms[::-1])"
      ],
      "metadata": {
        "colab": {
          "base_uri": "https://localhost:8080/"
        },
        "id": "ZoBBzueDNtNV",
        "outputId": "7c4c8beb-dec8-4762-dfc9-db14f14101b5"
      },
      "execution_count": 6,
      "outputs": [
        {
          "output_type": "stream",
          "name": "stdout",
          "text": [
            "max verstappen\n",
            "('max verstappen', 'charles leclerc')\n",
            "('lewis hamilton', 'fernando alonso')\n",
            "charles leclerc\n",
            "('charles leclerc', 'max verstappen', 'fernando alonso', 'lewis hamilton')\n"
          ]
        }
      ]
    },
    {
      "cell_type": "code",
      "source": [
        "mix=('python',1991,13.9,False)\n",
        "print(mix)\n",
        "for value in mix:\n",
        "  print(value)\n",
        "  print(type(value))"
      ],
      "metadata": {
        "colab": {
          "base_uri": "https://localhost:8080/"
        },
        "id": "5oM1gSRbPIFL",
        "outputId": "f33a9f8e-21e1-4adb-8e21-7cbfcaf4912a"
      },
      "execution_count": 10,
      "outputs": [
        {
          "output_type": "stream",
          "name": "stdout",
          "text": [
            "('python', 1991, 13.9, False)\n",
            "python\n",
            "<class 'str'>\n",
            "1991\n",
            "<class 'int'>\n",
            "13.9\n",
            "<class 'float'>\n",
            "False\n",
            "<class 'bool'>\n"
          ]
        }
      ]
    },
    {
      "cell_type": "code",
      "source": [
        "t=('java','python',('microsoft','google','oracle'))\n",
        "print(t)\n",
        "print(t[2][1])"
      ],
      "metadata": {
        "colab": {
          "base_uri": "https://localhost:8080/"
        },
        "id": "91Q0nmplQmkf",
        "outputId": "e8ed2d9e-0fb2-4e78-f6a9-651fd07f664d"
      },
      "execution_count": 13,
      "outputs": [
        {
          "output_type": "stream",
          "name": "stdout",
          "text": [
            "('java', 'python', ('microsoft', 'google', 'oracle'))\n",
            "google\n"
          ]
        }
      ]
    },
    {
      "cell_type": "code",
      "source": [
        "tp=('html','css','javascript',['java','python','c#'])\n",
        "print(tp)"
      ],
      "metadata": {
        "colab": {
          "base_uri": "https://localhost:8080/"
        },
        "id": "IdRPhp11RxVG",
        "outputId": "3d310b2e-aab5-453f-91ff-53f21f03fede"
      },
      "execution_count": 17,
      "outputs": [
        {
          "output_type": "stream",
          "name": "stdout",
          "text": [
            "('html', 'css', 'javascript', ['java', 'python', 'c#'])\n"
          ]
        }
      ]
    },
    {
      "cell_type": "code",
      "source": [
        "tp[3].append('mysql')\n",
        "print(tp)"
      ],
      "metadata": {
        "colab": {
          "base_uri": "https://localhost:8080/"
        },
        "id": "wTC0sFN_Sjun",
        "outputId": "b723b222-ef51-4d17-bdc6-b8980ef375c7"
      },
      "execution_count": 18,
      "outputs": [
        {
          "output_type": "stream",
          "name": "stdout",
          "text": [
            "('html', 'css', 'javascript', ['java', 'python', 'c#', 'mysql'])\n"
          ]
        }
      ]
    },
    {
      "cell_type": "markdown",
      "source": [
        "following 3 functions are available with string, list and tuples"
      ],
      "metadata": {
        "id": "7wl_khQ4TLkb"
      }
    },
    {
      "cell_type": "code",
      "source": [
        "tup=('data analytics','data science','data visualization','data engineering')"
      ],
      "metadata": {
        "id": "vIllgWsPTLAK"
      },
      "execution_count": 19,
      "outputs": []
    },
    {
      "cell_type": "code",
      "source": [
        "#number of elements\n",
        "print(len(tup))"
      ],
      "metadata": {
        "colab": {
          "base_uri": "https://localhost:8080/"
        },
        "id": "pkOSUxakTeFk",
        "outputId": "60dc87e2-3b6c-4264-e5c0-62aa81748858"
      },
      "execution_count": 20,
      "outputs": [
        {
          "output_type": "stream",
          "name": "stdout",
          "text": [
            "4\n"
          ]
        }
      ]
    },
    {
      "cell_type": "code",
      "source": [
        "print(min(tup))"
      ],
      "metadata": {
        "colab": {
          "base_uri": "https://localhost:8080/"
        },
        "id": "ApFF5kEQUCPa",
        "outputId": "f2562131-123a-4a61-a4e6-6a8680465294"
      },
      "execution_count": 22,
      "outputs": [
        {
          "output_type": "stream",
          "name": "stdout",
          "text": [
            "data analytics\n"
          ]
        }
      ]
    },
    {
      "cell_type": "code",
      "source": [
        "print(max(tup))"
      ],
      "metadata": {
        "colab": {
          "base_uri": "https://localhost:8080/"
        },
        "id": "KQQkg70nTqTm",
        "outputId": "7fb79352-6743-4514-b241-dcafbca01dcf"
      },
      "execution_count": 21,
      "outputs": [
        {
          "output_type": "stream",
          "name": "stdout",
          "text": [
            "data visualization\n"
          ]
        }
      ]
    },
    {
      "cell_type": "code",
      "source": [
        "n=(12,9,23,26,1,45,13)\n",
        "print(len(n))\n",
        "print(max(n))\n",
        "print(min(n))"
      ],
      "metadata": {
        "colab": {
          "base_uri": "https://localhost:8080/"
        },
        "id": "q6QDVPl5UGON",
        "outputId": "4149bdaf-5bb8-418d-e558-cbf6e1051d85"
      },
      "execution_count": 23,
      "outputs": [
        {
          "output_type": "stream",
          "name": "stdout",
          "text": [
            "7\n",
            "45\n",
            "1\n"
          ]
        }
      ]
    }
  ]
}