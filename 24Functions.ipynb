{
  "nbformat": 4,
  "nbformat_minor": 0,
  "metadata": {
    "colab": {
      "provenance": []
    },
    "kernelspec": {
      "name": "python3",
      "display_name": "Python 3"
    },
    "language_info": {
      "name": "python"
    }
  },
  "cells": [
    {
      "cell_type": "code",
      "execution_count": 1,
      "metadata": {
        "id": "LKSSa_q2nxEw"
      },
      "outputs": [],
      "source": [
        "# create a function that takes a number, calculates square and display the result\n",
        "def calcsqr(n):\n",
        "  sq=n*n\n",
        "  print(f'square of {n} is {sq}')"
      ]
    },
    {
      "cell_type": "code",
      "source": [
        "# code that calls the reusable function\n",
        "calcsqr(9)"
      ],
      "metadata": {
        "colab": {
          "base_uri": "https://localhost:8080/"
        },
        "id": "ix4cOLSeoi09",
        "outputId": "70586e98-1e18-4458-c805-81365d5612d8"
      },
      "execution_count": 2,
      "outputs": [
        {
          "output_type": "stream",
          "name": "stdout",
          "text": [
            "square of 9 is 81\n"
          ]
        }
      ]
    },
    {
      "cell_type": "code",
      "source": [
        "calcsqr(13)\n",
        "calcsqr(26)\n",
        "calcsqr(45)"
      ],
      "metadata": {
        "colab": {
          "base_uri": "https://localhost:8080/"
        },
        "id": "kGnpdeC-o-Uu",
        "outputId": "67d6dc4b-a717-428b-bd86-cc44889fd408"
      },
      "execution_count": 3,
      "outputs": [
        {
          "output_type": "stream",
          "name": "stdout",
          "text": [
            "square of 13 is 169\n",
            "square of 26 is 676\n",
            "square of 45 is 2025\n"
          ]
        }
      ]
    },
    {
      "cell_type": "code",
      "source": [
        "def add(a,b):\n",
        "  c=a+b\n",
        "  print(f'addition is {c}')"
      ],
      "metadata": {
        "id": "CSjqVJIApQxM"
      },
      "execution_count": 4,
      "outputs": []
    },
    {
      "cell_type": "code",
      "source": [
        "add(12,23)"
      ],
      "metadata": {
        "colab": {
          "base_uri": "https://localhost:8080/"
        },
        "id": "t6MwjrMJpliL",
        "outputId": "529cb730-b83d-4f1f-875f-95d2d24ed981"
      },
      "execution_count": 5,
      "outputs": [
        {
          "output_type": "stream",
          "name": "stdout",
          "text": [
            "addition is 35\n"
          ]
        }
      ]
    },
    {
      "cell_type": "code",
      "source": [
        "add(61.29,35.88)"
      ],
      "metadata": {
        "colab": {
          "base_uri": "https://localhost:8080/"
        },
        "id": "6xLhq36JpvwG",
        "outputId": "7e44b944-9e11-4e19-db0d-9a1edf4bcb11"
      },
      "execution_count": 6,
      "outputs": [
        {
          "output_type": "stream",
          "name": "stdout",
          "text": [
            "addition is 97.17\n"
          ]
        }
      ]
    },
    {
      "cell_type": "code",
      "source": [
        "add('soham','global')"
      ],
      "metadata": {
        "colab": {
          "base_uri": "https://localhost:8080/"
        },
        "id": "feXVUsw3qDai",
        "outputId": "96fbef89-1c0f-4682-f958-c310d7d79607"
      },
      "execution_count": 7,
      "outputs": [
        {
          "output_type": "stream",
          "name": "stdout",
          "text": [
            "addition is sohamglobal\n"
          ]
        }
      ]
    },
    {
      "cell_type": "code",
      "source": [
        "def calcdiscount(amount):\n",
        "  if amount>20000:\n",
        "    discount=amount*13/100\n",
        "  else:\n",
        "    discount=amount*9/100\n",
        "\n",
        "  print(f'amount {amount} and discount will be {discount}')\n"
      ],
      "metadata": {
        "id": "jvx0UD3jqO5M"
      },
      "execution_count": 8,
      "outputs": []
    },
    {
      "cell_type": "code",
      "source": [
        "calcdiscount(24500)"
      ],
      "metadata": {
        "colab": {
          "base_uri": "https://localhost:8080/"
        },
        "id": "imUZ4jsfqpjR",
        "outputId": "69a7a7ee-32c4-4045-f5c8-c62f9319c217"
      },
      "execution_count": 9,
      "outputs": [
        {
          "output_type": "stream",
          "name": "stdout",
          "text": [
            "amount 24500 and discount will be 3185.0\n"
          ]
        }
      ]
    },
    {
      "cell_type": "code",
      "source": [
        "calcdiscount(12300)"
      ],
      "metadata": {
        "colab": {
          "base_uri": "https://localhost:8080/"
        },
        "id": "Y-U7vPiequr4",
        "outputId": "bf679d14-966a-426c-86d4-be824bcb5d67"
      },
      "execution_count": 10,
      "outputs": [
        {
          "output_type": "stream",
          "name": "stdout",
          "text": [
            "amount 12300 and discount will be 1107.0\n"
          ]
        }
      ]
    }
  ]
}