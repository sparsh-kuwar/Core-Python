{
  "nbformat": 4,
  "nbformat_minor": 0,
  "metadata": {
    "colab": {
      "provenance": []
    },
    "kernelspec": {
      "name": "python3",
      "display_name": "Python 3"
    },
    "language_info": {
      "name": "python"
    }
  },
  "cells": [
    {
      "cell_type": "code",
      "execution_count": 14,
      "metadata": {
        "id": "b0w10eCjBFNW"
      },
      "outputs": [],
      "source": [
        "class ElectricBilling:\n",
        "  def __init__(self):\n",
        "    print('welcome to electric billing class')\n",
        "  def calcbill(self,units):\n",
        "    bill=(units*5)+250\n",
        "    print(f'Units consumed : {units} and Bill : Rs. {bill}')\n",
        "  def __del__(self):\n",
        "    print('object is destroyed from the memory')"
      ]
    },
    {
      "cell_type": "code",
      "source": [
        "obj=ElectricBilling()\n",
        "obj.calcbill(147)"
      ],
      "metadata": {
        "colab": {
          "base_uri": "https://localhost:8080/"
        },
        "id": "ZR1QL1yLEBIx",
        "outputId": "f9355549-6a5b-433c-97ab-1fdae9c6ac78"
      },
      "execution_count": 17,
      "outputs": [
        {
          "output_type": "stream",
          "name": "stdout",
          "text": [
            "welcome to electric billing class\n",
            "object is destroyed from the memory\n",
            "Units consumed : 147 and Bill : Rs. 985\n",
            "still running\n"
          ]
        }
      ]
    }
  ]
}