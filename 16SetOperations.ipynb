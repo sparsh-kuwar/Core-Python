{
  "nbformat": 4,
  "nbformat_minor": 0,
  "metadata": {
    "colab": {
      "provenance": []
    },
    "kernelspec": {
      "name": "python3",
      "display_name": "Python 3"
    },
    "language_info": {
      "name": "python"
    }
  },
  "cells": [
    {
      "cell_type": "markdown",
      "source": [
        "Operations-> Union, Intersection, Difference, Symmetric difference"
      ],
      "metadata": {
        "id": "9c42q5HWakcA"
      }
    },
    {
      "cell_type": "code",
      "execution_count": 1,
      "metadata": {
        "id": "EGMsVi79af9R"
      },
      "outputs": [],
      "source": [
        "lap={'dell','hp','microsoft','apple','lenovo','asus'}\n",
        "mob={'apple','samsung','asus','motorola','realme','vivo'}"
      ]
    },
    {
      "cell_type": "markdown",
      "source": [
        "UNION-combine values of both sets, remove duplicates"
      ],
      "metadata": {
        "id": "u2mR8pCqbsB8"
      }
    },
    {
      "cell_type": "code",
      "source": [
        "res=lap.union(mob)\n",
        "print(res)"
      ],
      "metadata": {
        "colab": {
          "base_uri": "https://localhost:8080/"
        },
        "id": "XBQBGnexb0Mc",
        "outputId": "50778ae0-02e7-4549-e0ef-9c2e8e85d6c1"
      },
      "execution_count": 2,
      "outputs": [
        {
          "output_type": "stream",
          "name": "stdout",
          "text": [
            "{'samsung', 'realme', 'hp', 'microsoft', 'asus', 'motorola', 'lenovo', 'apple', 'dell', 'vivo'}\n"
          ]
        }
      ]
    },
    {
      "cell_type": "markdown",
      "source": [
        "INTERSECTION- common values from both sets"
      ],
      "metadata": {
        "id": "OcoKa7_zcPGu"
      }
    },
    {
      "cell_type": "code",
      "source": [
        "res=lap.intersection(mob)\n",
        "print(res)"
      ],
      "metadata": {
        "colab": {
          "base_uri": "https://localhost:8080/"
        },
        "id": "7bp4Vqhwc3ud",
        "outputId": "a54b24c8-81d4-43a3-d573-86ec57081347"
      },
      "execution_count": 3,
      "outputs": [
        {
          "output_type": "stream",
          "name": "stdout",
          "text": [
            "{'apple', 'asus'}\n"
          ]
        }
      ]
    },
    {
      "cell_type": "markdown",
      "source": [
        "DIFFERENCE - Values in first but not in second"
      ],
      "metadata": {
        "id": "kHGDIPIMdGcm"
      }
    },
    {
      "cell_type": "code",
      "source": [
        "res=lap.difference(mob)\n",
        "print(res)"
      ],
      "metadata": {
        "colab": {
          "base_uri": "https://localhost:8080/"
        },
        "id": "mLJsAfCTdSwZ",
        "outputId": "a1d515f6-bd81-40ef-f5b0-ee62ba86d544"
      },
      "execution_count": 4,
      "outputs": [
        {
          "output_type": "stream",
          "name": "stdout",
          "text": [
            "{'hp', 'microsoft', 'lenovo', 'dell'}\n"
          ]
        }
      ]
    },
    {
      "cell_type": "markdown",
      "source": [
        "SYMMETRIC DIFFERENCE - values from both sets except the common"
      ],
      "metadata": {
        "id": "som9vPKSdsHx"
      }
    },
    {
      "cell_type": "code",
      "source": [
        "res=lap.symmetric_difference(mob)\n",
        "print(res)"
      ],
      "metadata": {
        "colab": {
          "base_uri": "https://localhost:8080/"
        },
        "id": "kYgVzshYd_6d",
        "outputId": "9154333b-42be-44fc-9df9-c245060526a2"
      },
      "execution_count": 5,
      "outputs": [
        {
          "output_type": "stream",
          "name": "stdout",
          "text": [
            "{'samsung', 'microsoft', 'motorola', 'lenovo', 'vivo', 'hp', 'dell', 'realme'}\n"
          ]
        }
      ]
    },
    {
      "cell_type": "markdown",
      "source": [
        "Operations on List?"
      ],
      "metadata": {
        "id": "dulrus8pfMFh"
      }
    },
    {
      "cell_type": "code",
      "source": [
        "cricket=['england','india','pakistan','australia','netherlands']\n",
        "football=['spain','germany','england','brazil','italy','netherlands','argentina']"
      ],
      "metadata": {
        "id": "kcnsVThJfPe9"
      },
      "execution_count": 6,
      "outputs": []
    },
    {
      "cell_type": "code",
      "source": [
        "res=list(set(cricket).intersection(football))\n",
        "print(res)"
      ],
      "metadata": {
        "colab": {
          "base_uri": "https://localhost:8080/"
        },
        "id": "3P-J2o9xfuma",
        "outputId": "8d7533be-e97b-4a58-d6f5-937d2d0994ea"
      },
      "execution_count": 10,
      "outputs": [
        {
          "output_type": "stream",
          "name": "stdout",
          "text": [
            "['netherlands', 'england']\n"
          ]
        }
      ]
    }
  ]
}