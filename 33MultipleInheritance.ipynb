{
  "nbformat": 4,
  "nbformat_minor": 0,
  "metadata": {
    "colab": {
      "provenance": []
    },
    "kernelspec": {
      "name": "python3",
      "display_name": "Python 3"
    },
    "language_info": {
      "name": "python"
    }
  },
  "cells": [
    {
      "cell_type": "code",
      "execution_count": 1,
      "metadata": {
        "id": "mm2c__4S32Xv"
      },
      "outputs": [],
      "source": [
        "class One:\n",
        "  def calcsquare(self,n):\n",
        "    sq=n*n\n",
        "    print(f'square of {n} is {sq}')"
      ]
    },
    {
      "cell_type": "code",
      "source": [
        "class Two:\n",
        "  def add(self,a,b):\n",
        "    res=a+b\n",
        "    print(f'sum of {a} and {b} is {res}')"
      ],
      "metadata": {
        "id": "9dBliGNZ3_Fu"
      },
      "execution_count": 2,
      "outputs": []
    },
    {
      "cell_type": "code",
      "source": [
        "class Three(One,Two):\n",
        "  def multiply(self,x,y):\n",
        "    res=x*y\n",
        "    print(f'multiplication of {x} and {y} is {res}')"
      ],
      "metadata": {
        "id": "NuCbhlfU4EzH"
      },
      "execution_count": 3,
      "outputs": []
    },
    {
      "cell_type": "code",
      "source": [
        "obj=Three()\n",
        "obj.multiply(15,9)\n",
        "obj.add(33,77)\n",
        "obj.calcsquare(25)"
      ],
      "metadata": {
        "colab": {
          "base_uri": "https://localhost:8080/"
        },
        "id": "tbo5Iydq4XZp",
        "outputId": "058cd027-e99d-44b2-913d-8a3c9afe2eb8"
      },
      "execution_count": 4,
      "outputs": [
        {
          "output_type": "stream",
          "name": "stdout",
          "text": [
            "multiplication of 15 and 9 is 135\n",
            "sum of 33 and 77 is 110\n",
            "square of 25 is 625\n"
          ]
        }
      ]
    }
  ]
}