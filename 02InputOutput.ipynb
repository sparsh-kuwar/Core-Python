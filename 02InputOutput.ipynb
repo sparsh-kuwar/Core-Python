{
  "cells": [
    {
      "cell_type": "markdown",
      "metadata": {
        "id": "qVD5nNHiiSu9"
      },
      "source": [
        "**python input output examples**"
      ]
    },
    {
      "cell_type": "code",
      "execution_count": 1,
      "metadata": {
        "colab": {
          "base_uri": "https://localhost:8080/"
        },
        "id": "Cwn0lYamhjTC",
        "outputId": "932e1eb9-4165-491b-f2aa-9985bbba6bb9"
      },
      "outputs": [
        {
          "name": "stdout",
          "output_type": "stream",
          "text": [
            "welcome  to SparshWeb\n"
          ]
        }
      ],
      "source": [
        "nm=input('Enter your name : ')\n",
        "print(f'welcome {nm} to SparshWeb')"
      ]
    },
    {
      "cell_type": "code",
      "execution_count": 5,
      "metadata": {
        "colab": {
          "base_uri": "https://localhost:8080/"
        },
        "id": "6LhxRzCCkKU3",
        "outputId": "43d88888-bedb-4f23-85c3-efa166acad73"
      },
      "outputs": [
        {
          "name": "stdout",
          "output_type": "stream",
          "text": [
            "Enter name : praffull\n",
            "Enter city : london\n",
            "thanks praffull for joining from london\n"
          ]
        }
      ],
      "source": [
        "nm=input('Enter name : ')\n",
        "ct=input('Enter city : ')\n",
        "print(f'thanks {nm} for joining from {ct}')"
      ]
    },
    {
      "cell_type": "markdown",
      "metadata": {
        "id": "weDjbSGumnFN"
      },
      "source": [
        "Every input in python is considered as a string by default"
      ]
    },
    {
      "cell_type": "code",
      "execution_count": 11,
      "metadata": {
        "colab": {
          "base_uri": "https://localhost:8080/"
        },
        "id": "VxAtVSSdlAq9",
        "outputId": "00e3fa39-56b7-4825-b3cd-0bf82e8110aa"
      },
      "outputs": [
        {
          "name": "stdout",
          "output_type": "stream",
          "text": [
            "Enter a number : 75\n",
            "75\n",
            "<class 'str'>\n"
          ]
        }
      ],
      "source": [
        "n=input('Enter a number : ')\n",
        "print(n)\n",
        "print(type(n))"
      ]
    },
    {
      "cell_type": "code",
      "execution_count": 12,
      "metadata": {
        "colab": {
          "base_uri": "https://localhost:8080/"
        },
        "id": "RC7hRmRkm8lF",
        "outputId": "3d4f3cfe-fdb3-46e3-9cf3-4017a231b735"
      },
      "outputs": [
        {
          "name": "stdout",
          "output_type": "stream",
          "text": [
            "Enter a number : 75\n",
            "75\n",
            "<class 'int'>\n"
          ]
        }
      ],
      "source": [
        "n=int(input('Enter a number : '))\n",
        "print(n)\n",
        "print(type(n))"
      ]
    },
    {
      "cell_type": "code",
      "execution_count": 14,
      "metadata": {
        "colab": {
          "base_uri": "https://localhost:8080/"
        },
        "id": "8E1gcOwEnQpu",
        "outputId": "9821a297-d79e-44b9-d8e9-89de05b601a6"
      },
      "outputs": [
        {
          "name": "stdout",
          "output_type": "stream",
          "text": [
            "Enter first number : 23\n",
            "Enter second number : 69\n",
            "sum is 92\n"
          ]
        }
      ],
      "source": [
        "a=int(input('Enter first number : '))\n",
        "b=int(input('Enter second number : '))\n",
        "c=a+b\n",
        "print(f'sum is {c}')"
      ]
    },
    {
      "cell_type": "code",
      "execution_count": 15,
      "metadata": {
        "colab": {
          "base_uri": "https://localhost:8080/"
        },
        "id": "rpzXUJ8aoYh8",
        "outputId": "c2262db2-9a6c-4a0f-e6ef-9e3370a6fe77"
      },
      "outputs": [
        {
          "name": "stdout",
          "output_type": "stream",
          "text": [
            "Enter first number : 36.92\n",
            "Enter second number : 25.77\n",
            "sum is 62.69\n"
          ]
        }
      ],
      "source": [
        "a=float(input('Enter first number : '))\n",
        "b=float(input('Enter second number : '))\n",
        "c=a+b\n",
        "print(f'sum is {c}')"
      ]
    },
    {
      "cell_type": "code",
      "execution_count": 18,
      "metadata": {
        "colab": {
          "base_uri": "https://localhost:8080/"
        },
        "id": "Y79gHg28otUb",
        "outputId": "0fdf0d07-2261-4cfe-de76-b016b5f6a03b"
      },
      "outputs": [
        {
          "name": "stdout",
          "output_type": "stream",
          "text": [
            "Enter customer name : pat cummins\n",
            "Enter amount : 6730\n",
            "Discount is 673.0\n",
            "pat cummins your net bill is 6057.0\n"
          ]
        }
      ],
      "source": [
        "custnm=input('Enter customer name : ')\n",
        "amount=float(input('Enter amount : '))\n",
        "disc=amount*10/100\n",
        "print(f'Discount is {disc}')\n",
        "bill=amount-disc\n",
        "print(f'{custnm} your net bill is {bill}')"
      ]
    },
    {
      "cell_type": "code",
      "execution_count": 23,
      "metadata": {
        "colab": {
          "base_uri": "https://localhost:8080/"
        },
        "id": "kRYiMfGCp0s2",
        "outputId": "971572c9-627e-479d-8040-d87924467449"
      },
      "outputs": [
        {
          "name": "stdout",
          "output_type": "stream",
          "text": [
            "Enter a number : 57\n",
            "square of 57 is 3249\n"
          ]
        }
      ],
      "source": [
        "n=int(input('Enter a number : '))\n",
        "sq=n**2\n",
        "print(f'square of {n} is {sq}')"
      ]
    },
    {
      "cell_type": "code",
      "execution_count": 25,
      "metadata": {
        "colab": {
          "base_uri": "https://localhost:8080/"
        },
        "id": "kMhlVbOnra3x",
        "outputId": "f2df38b6-da7b-40ad-c830-67a928474892"
      },
      "outputs": [
        {
          "name": "stdout",
          "output_type": "stream",
          "text": [
            "Enter first number : 23\n",
            "Enter second number : 12\n",
            "Addition : 35\n",
            "Subtraction : 11\n",
            "Multiplication : 276\n",
            "Division : 1.9166666666666667\n"
          ]
        }
      ],
      "source": [
        "x=int(input('Enter first number : '))\n",
        "y=int(input('Enter second number : '))\n",
        "print(f'Addition : {x+y}')\n",
        "print(f'Subtraction : {x-y}')\n",
        "print(f'Multiplication : {x*y}')\n",
        "print(f'Division : {x/y}')"
      ]
    },
    {
      "cell_type": "code",
      "execution_count": 29,
      "metadata": {
        "colab": {
          "base_uri": "https://localhost:8080/"
        },
        "id": "DWosSg0Ysj-V",
        "outputId": "1b4034c6-91fd-48ac-a55d-eeb8fdbb5287"
      },
      "outputs": [
        {
          "name": "stdout",
          "output_type": "stream",
          "text": [
            "Enter student name : sharayu\n",
            "Enter marks : 92\n",
            "Congrats sharayu you are fail\n"
          ]
        }
      ],
      "source": [
        "studnm=input('Enter student name : ')\n",
        "marks=int(input('Enter marks : '))\n",
        "print(f'Congrats {studnm} you are pass')"
      ]
    }
  ],
  "metadata": {
    "colab": {
      "provenance": []
    },
    "kernelspec": {
      "display_name": "Python 3",
      "name": "python3"
    },
    "language_info": {
      "codemirror_mode": {
        "name": "ipython",
        "version": 3
      },
      "file_extension": ".py",
      "mimetype": "text/x-python",
      "name": "python",
      "nbconvert_exporter": "python",
      "pygments_lexer": "ipython3",
      "version": "3.13.5"
    }
  },
  "nbformat": 4,
  "nbformat_minor": 0
}
