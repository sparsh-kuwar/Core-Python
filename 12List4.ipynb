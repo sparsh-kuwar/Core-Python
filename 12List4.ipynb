{
  "nbformat": 4,
  "nbformat_minor": 0,
  "metadata": {
    "colab": {
      "provenance": []
    },
    "kernelspec": {
      "name": "python3",
      "display_name": "Python 3"
    },
    "language_info": {
      "name": "python"
    }
  },
  "cells": [
    {
      "cell_type": "code",
      "execution_count": 1,
      "metadata": {
        "colab": {
          "base_uri": "https://localhost:8080/"
        },
        "id": "1KIajYmrt-Wq",
        "outputId": "a60000b3-267d-4a93-fdcb-85754ad04bcb"
      },
      "outputs": [
        {
          "output_type": "stream",
          "name": "stdout",
          "text": [
            "Enter company name : microsoft\n",
            "Do you want to continue (no to stop): yes\n",
            "Enter company name : oracle\n",
            "Do you want to continue (no to stop): yes\n",
            "Enter company name : vmware\n",
            "Do you want to continue (no to stop): yes\n",
            "Enter company name : volkswagen\n",
            "Do you want to continue (no to stop): yes\n",
            "Enter company name : samsung\n",
            "Do you want to continue (no to stop): no\n",
            "['microsoft', 'oracle', 'vmware', 'volkswagen', 'samsung']\n"
          ]
        }
      ],
      "source": [
        "companies=[]\n",
        "cho=''\n",
        "\n",
        "while cho!='no':\n",
        "  nm=input('Enter company name : ')\n",
        "  companies.append(nm)\n",
        "  cho=input('Do you want to continue (no to stop): ')\n",
        "\n",
        "print(companies)\n"
      ]
    }
  ]
}