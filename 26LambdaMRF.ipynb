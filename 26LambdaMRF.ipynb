{
  "nbformat": 4,
  "nbformat_minor": 0,
  "metadata": {
    "colab": {
      "provenance": []
    },
    "kernelspec": {
      "name": "python3",
      "display_name": "Python 3"
    },
    "language_info": {
      "name": "python"
    }
  },
  "cells": [
    {
      "cell_type": "code",
      "source": [
        "def calcsqr(n):\n",
        "  sq=n**2\n",
        "  return sq"
      ],
      "metadata": {
        "id": "Csfo_DitAX8a"
      },
      "execution_count": 3,
      "outputs": []
    },
    {
      "cell_type": "code",
      "source": [
        "s=calcsqr(13)\n",
        "print(f'square is {s}')"
      ],
      "metadata": {
        "colab": {
          "base_uri": "https://localhost:8080/"
        },
        "id": "Ys9kVrswAw-h",
        "outputId": "e8a9877b-1063-4ba1-e41a-718a85b912d2"
      },
      "execution_count": 4,
      "outputs": [
        {
          "output_type": "stream",
          "name": "stdout",
          "text": [
            "square is 169\n"
          ]
        }
      ]
    },
    {
      "cell_type": "markdown",
      "source": [
        "Lambda functions - one line no name functions"
      ],
      "metadata": {
        "id": "Tftkl0xJBK-M"
      }
    },
    {
      "cell_type": "code",
      "source": [
        "square=lambda n:n**2"
      ],
      "metadata": {
        "id": "Vd-A_tEuBKbP"
      },
      "execution_count": 5,
      "outputs": []
    },
    {
      "cell_type": "code",
      "source": [
        "print(square(9))\n",
        "print(square(23))"
      ],
      "metadata": {
        "colab": {
          "base_uri": "https://localhost:8080/"
        },
        "id": "SYpd1i5XBfO0",
        "outputId": "cebdb9ad-03e1-4149-8460-4f0c85ec5e7c"
      },
      "execution_count": 7,
      "outputs": [
        {
          "output_type": "stream",
          "name": "stdout",
          "text": [
            "81\n",
            "529\n"
          ]
        }
      ]
    },
    {
      "cell_type": "code",
      "source": [
        "add=lambda a,b: a+b"
      ],
      "metadata": {
        "id": "NxNXv0UUCBZK"
      },
      "execution_count": 8,
      "outputs": []
    },
    {
      "cell_type": "code",
      "source": [
        "print(add(36,58))"
      ],
      "metadata": {
        "colab": {
          "base_uri": "https://localhost:8080/"
        },
        "id": "ihtIoLT4CLcY",
        "outputId": "8d3ce85b-e3e6-4647-b974-93039e716901"
      },
      "execution_count": 9,
      "outputs": [
        {
          "output_type": "stream",
          "name": "stdout",
          "text": [
            "94\n"
          ]
        }
      ]
    },
    {
      "cell_type": "code",
      "source": [
        "discount=lambda amount: amount*10/100"
      ],
      "metadata": {
        "id": "jvKEE-kfCjls"
      },
      "execution_count": 10,
      "outputs": []
    },
    {
      "cell_type": "code",
      "source": [
        "print(discount(5700))"
      ],
      "metadata": {
        "colab": {
          "base_uri": "https://localhost:8080/"
        },
        "id": "HYNfNBXCCrli",
        "outputId": "2cdf9b63-f121-4b17-9556-d6d7ba72c83c"
      },
      "execution_count": 11,
      "outputs": [
        {
          "output_type": "stream",
          "name": "stdout",
          "text": [
            "570.0\n"
          ]
        }
      ]
    },
    {
      "cell_type": "markdown",
      "source": [
        "MAP - will take all elements from the list"
      ],
      "metadata": {
        "id": "m5cb4Oe0DDTj"
      }
    },
    {
      "cell_type": "code",
      "source": [
        "numbers=[1,2,3,4,5]\n",
        "sq=list(map(lambda x:x**2, numbers))\n",
        "print(sq)"
      ],
      "metadata": {
        "colab": {
          "base_uri": "https://localhost:8080/"
        },
        "id": "uHSVlCpDDK4X",
        "outputId": "d7d3298e-5504-44d8-b39d-e482a395d184"
      },
      "execution_count": 12,
      "outputs": [
        {
          "output_type": "stream",
          "name": "stdout",
          "text": [
            "[1, 4, 9, 16, 25]\n"
          ]
        }
      ]
    },
    {
      "cell_type": "code",
      "source": [
        "numbers=[12,65,22,49,87,15]\n",
        "res=list(map(lambda x: x*5,numbers))\n",
        "print(res)"
      ],
      "metadata": {
        "colab": {
          "base_uri": "https://localhost:8080/"
        },
        "id": "qQAo0gmVEFJb",
        "outputId": "f1282f63-e0cd-4899-8a19-7321049001af"
      },
      "execution_count": 13,
      "outputs": [
        {
          "output_type": "stream",
          "name": "stdout",
          "text": [
            "[60, 325, 110, 245, 435, 75]\n"
          ]
        }
      ]
    },
    {
      "cell_type": "markdown",
      "source": [
        "FILTER - take only those elements which satisfy the given condition"
      ],
      "metadata": {
        "id": "IGrtwHJRErWM"
      }
    },
    {
      "cell_type": "code",
      "source": [
        "nums=[1,2,3,4,5,6,7,8,9]\n",
        "odd=list(filter(lambda x:x%2==1,nums))\n",
        "print(odd)"
      ],
      "metadata": {
        "colab": {
          "base_uri": "https://localhost:8080/"
        },
        "id": "FGs11ssqE6nT",
        "outputId": "7d6a6a6f-21b7-4fc2-d570-db747035965a"
      },
      "execution_count": 14,
      "outputs": [
        {
          "output_type": "stream",
          "name": "stdout",
          "text": [
            "[1, 3, 5, 7, 9]\n"
          ]
        }
      ]
    },
    {
      "cell_type": "code",
      "source": [
        "nums=[12,75,25,49,29,84,69,15]\n",
        "res=tuple(filter(lambda x:x%7==0,nums))\n",
        "print(res)"
      ],
      "metadata": {
        "colab": {
          "base_uri": "https://localhost:8080/"
        },
        "id": "b5S9y655Fh4g",
        "outputId": "4dd243d9-0a6c-45c4-876b-cba1a4c77940"
      },
      "execution_count": 16,
      "outputs": [
        {
          "output_type": "stream",
          "name": "stdout",
          "text": [
            "(49, 84)\n"
          ]
        }
      ]
    },
    {
      "cell_type": "markdown",
      "source": [
        "REDUCE - summary result"
      ],
      "metadata": {
        "id": "nGJYKeSoGIsa"
      }
    },
    {
      "cell_type": "code",
      "source": [
        "from functools import reduce\n",
        "lst=[1,2,3,4,5]\n",
        "sum=reduce(lambda x,y:x+y,lst)\n",
        "print(sum)"
      ],
      "metadata": {
        "colab": {
          "base_uri": "https://localhost:8080/"
        },
        "id": "dT85P0VwGTdM",
        "outputId": "a536f951-8532-4ce1-879b-2457a0552206"
      },
      "execution_count": 20,
      "outputs": [
        {
          "output_type": "stream",
          "name": "stdout",
          "text": [
            "15\n"
          ]
        }
      ]
    }
  ]
}