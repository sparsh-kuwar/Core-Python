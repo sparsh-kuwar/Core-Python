{
  "cells": [
    {
      "cell_type": "code",
      "execution_count": 1,
      "metadata": {
        "colab": {
          "base_uri": "https://localhost:8080/"
        },
        "id": "5fby-CdxTHqN",
        "outputId": "2dc709c4-edaf-4041-e36d-765edfb6bde4"
      },
      "outputs": [
        {
          "name": "stdout",
          "output_type": "stream",
          "text": [
            "<class 'set'>\n",
            "{'buttler', 'cummins', 'soham', 'sparsh', 'root', 'deu'}\n"
          ]
        }
      ],
      "source": [
        "nm={'sparsh','deu','soham','buttler','cummins','root'}\n",
        "print(type(nm))\n",
        "print(nm)\n",
        "#order is not maintained"
      ]
    },
    {
      "cell_type": "code",
      "execution_count": 11,
      "metadata": {
        "colab": {
          "base_uri": "https://localhost:8080/"
        },
        "id": "b1XYpyJbWAge",
        "outputId": "7a7452a2-5081-4fd3-9d47-10bd99db79b1"
      },
      "outputs": [
        {
          "name": "stdout",
          "output_type": "stream",
          "text": [
            "{'the matrix', 'pk', 'john wick', 'don'}\n"
          ]
        }
      ],
      "source": [
        "films={'don','pk','the matrix','don','john wick','the matrix'}\n",
        "print(films)\n",
        "#Duplicates not allowed"
      ]
    },
    {
      "cell_type": "code",
      "execution_count": 12,
      "metadata": {
        "colab": {
          "base_uri": "https://localhost:8080/"
        },
        "id": "oXiC9C4pWmV2",
        "outputId": "0b23dd98-fb11-4188-ebae-b0936677abcf"
      },
      "outputs": [
        {
          "name": "stdout",
          "output_type": "stream",
          "text": [
            "{'the matrix', 'pk', 'don', 'john wick', 'mission impossible', 'sholay'}\n"
          ]
        }
      ],
      "source": [
        "films.add('mission impossible')\n",
        "films.add('sholay')\n",
        "print(films)"
      ]
    },
    {
      "cell_type": "code",
      "execution_count": 13,
      "metadata": {
        "colab": {
          "base_uri": "https://localhost:8080/"
        },
        "id": "DTeC5VJVXqSX",
        "outputId": "7c247319-cb1e-462b-fbb0-318dad39200e"
      },
      "outputs": [
        {
          "name": "stdout",
          "output_type": "stream",
          "text": [
            "{'the matrix', 'pk', 'don', 'john wick', 'sholay'}\n"
          ]
        }
      ],
      "source": [
        "films.remove('mission impossible')\n",
        "print(films)\n",
        "#set is mutable"
      ]
    },
    {
      "cell_type": "code",
      "execution_count": 14,
      "metadata": {
        "colab": {
          "base_uri": "https://localhost:8080/",
          "height": 141
        },
        "id": "leyQ32wEYEKA",
        "outputId": "c99dac22-ebc3-493a-ae6b-cc4654e4eff8"
      },
      "outputs": [
        {
          "ename": "TypeError",
          "evalue": "'set' object is not subscriptable",
          "output_type": "error",
          "traceback": [
            "\u001b[0;31m---------------------------------------------------------------------------\u001b[0m",
            "\u001b[0;31mTypeError\u001b[0m                                 Traceback (most recent call last)",
            "\u001b[0;32m/tmp/ipython-input-14-204663604.py\u001b[0m in \u001b[0;36m<cell line: 0>\u001b[0;34m()\u001b[0m\n\u001b[0;32m----> 1\u001b[0;31m \u001b[0mprint\u001b[0m\u001b[0;34m(\u001b[0m\u001b[0mfilms\u001b[0m\u001b[0;34m[\u001b[0m\u001b[0;36m0\u001b[0m\u001b[0;34m]\u001b[0m\u001b[0;34m)\u001b[0m\u001b[0;34m\u001b[0m\u001b[0;34m\u001b[0m\u001b[0m\n\u001b[0m",
            "\u001b[0;31mTypeError\u001b[0m: 'set' object is not subscriptable"
          ]
        }
      ],
      "source": [
        "print(films[0])"
      ]
    },
    {
      "cell_type": "code",
      "execution_count": 15,
      "metadata": {
        "colab": {
          "base_uri": "https://localhost:8080/"
        },
        "id": "Q_wcGAR8YzrT",
        "outputId": "c6979d13-473f-43e1-fe2a-07d8b41d5892"
      },
      "outputs": [
        {
          "name": "stdout",
          "output_type": "stream",
          "text": [
            "the matrix\n",
            "{'pk', 'don', 'john wick', 'sholay'}\n"
          ]
        }
      ],
      "source": [
        "print(films.pop())\n",
        "print(films)"
      ]
    },
    {
      "cell_type": "code",
      "execution_count": 16,
      "metadata": {
        "colab": {
          "base_uri": "https://localhost:8080/"
        },
        "id": "nzUbRTzSY_kq",
        "outputId": "d94cc73f-622d-4ca8-f618-5e56bbfa25af"
      },
      "outputs": [
        {
          "name": "stdout",
          "output_type": "stream",
          "text": [
            "pk\n",
            "{'don', 'john wick', 'sholay'}\n"
          ]
        }
      ],
      "source": [
        "print(films.pop())\n",
        "print(films)"
      ]
    },
    {
      "cell_type": "code",
      "execution_count": 19,
      "metadata": {
        "colab": {
          "base_uri": "https://localhost:8080/"
        },
        "id": "0UtA8GbcZ7h4",
        "outputId": "4e68b224-6b2b-4dfc-ae26-c42b3a5858e9"
      },
      "outputs": [
        {
          "name": "stdout",
          "output_type": "stream",
          "text": [
            "3\n",
            "sholay\n",
            "don\n"
          ]
        }
      ],
      "source": [
        "print(len(films))\n",
        "print(max(films))\n",
        "print(min(films))"
      ]
    }
  ],
  "metadata": {
    "colab": {
      "provenance": []
    },
    "kernelspec": {
      "display_name": "Python 3",
      "name": "python3"
    },
    "language_info": {
      "codemirror_mode": {
        "name": "ipython",
        "version": 3
      },
      "file_extension": ".py",
      "mimetype": "text/x-python",
      "name": "python",
      "nbconvert_exporter": "python",
      "pygments_lexer": "ipython3",
      "version": "3.13.5"
    }
  },
  "nbformat": 4,
  "nbformat_minor": 0
}
