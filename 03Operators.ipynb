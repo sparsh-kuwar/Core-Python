{
  "nbformat": 4,
  "nbformat_minor": 0,
  "metadata": {
    "colab": {
      "provenance": []
    },
    "kernelspec": {
      "name": "python3",
      "display_name": "Python 3"
    },
    "language_info": {
      "name": "python"
    }
  },
  "cells": [
    {
      "cell_type": "markdown",
      "source": [
        "**Arithmetic operators**"
      ],
      "metadata": {
        "id": "zcCi2O5WqW6P"
      }
    },
    {
      "cell_type": "code",
      "execution_count": 6,
      "metadata": {
        "colab": {
          "base_uri": "https://localhost:8080/"
        },
        "id": "QYw0SuepqPTa",
        "outputId": "4a1f2ef1-1ea3-4dd4-9edb-899c63e616df"
      },
      "outputs": [
        {
          "output_type": "stream",
          "name": "stdout",
          "text": [
            "22\n",
            "-4\n",
            "117\n",
            "1.4444444444444444\n",
            "1\n",
            "4\n",
            "9\n"
          ]
        }
      ],
      "source": [
        "x=9\n",
        "y=13\n",
        "print(x+y)\n",
        "print(x-y)\n",
        "print(x*y)\n",
        "print(y/x)\n",
        "#floor division\n",
        "print(y//x)\n",
        "#modulus\n",
        "print(25%7)\n",
        "print(3**2)"
      ]
    },
    {
      "cell_type": "markdown",
      "source": [
        "**Relational operators**"
      ],
      "metadata": {
        "id": "JCPiNRYeruvR"
      }
    },
    {
      "cell_type": "code",
      "source": [
        "a=4\n",
        "print(a==5)\n",
        "password=\"chelsea\"\n",
        "print(password==\"chelsea\")\n",
        "print(10>15)\n",
        "print(10<15)\n",
        "print(a<=5)\n",
        "print(a>=5)\n",
        "print(a!=7)"
      ],
      "metadata": {
        "colab": {
          "base_uri": "https://localhost:8080/"
        },
        "id": "j2yTLmI8r0fq",
        "outputId": "6fced3c7-a248-4c45-f4c4-22ac85f755f3"
      },
      "execution_count": 12,
      "outputs": [
        {
          "output_type": "stream",
          "name": "stdout",
          "text": [
            "False\n",
            "True\n",
            "False\n",
            "True\n",
            "True\n",
            "False\n",
            "True\n"
          ]
        }
      ]
    },
    {
      "cell_type": "markdown",
      "source": [
        "**Assignment Operators**"
      ],
      "metadata": {
        "id": "alshSkT6tepC"
      }
    },
    {
      "cell_type": "code",
      "source": [
        "x=5\n",
        "x+=3\n",
        "x-=2\n",
        "x*=4\n",
        "x/=3\n",
        "x//=5\n",
        "x%=2\n",
        "print(x)"
      ],
      "metadata": {
        "colab": {
          "base_uri": "https://localhost:8080/"
        },
        "id": "QBez4XFftjMk",
        "outputId": "f26c3a5a-3b5e-4cf8-dea4-591527d31c67"
      },
      "execution_count": 13,
      "outputs": [
        {
          "output_type": "stream",
          "name": "stdout",
          "text": [
            "1.0\n"
          ]
        }
      ]
    },
    {
      "cell_type": "markdown",
      "source": [
        "**Logical operators**"
      ],
      "metadata": {
        "id": "B7AwBsvHuaxU"
      }
    },
    {
      "cell_type": "code",
      "source": [
        "print(10>5)\n",
        "print(7<5)\n",
        "print(10>5 and 7<5)\n",
        "print(10>5 or 7<5)\n",
        "print(not 10>5)"
      ],
      "metadata": {
        "colab": {
          "base_uri": "https://localhost:8080/"
        },
        "id": "E4qKrT3MugMU",
        "outputId": "57e73273-8970-4716-f9c5-9cde0e6c89bc"
      },
      "execution_count": 18,
      "outputs": [
        {
          "output_type": "stream",
          "name": "stdout",
          "text": [
            "True\n",
            "False\n",
            "False\n",
            "True\n",
            "False\n"
          ]
        }
      ]
    },
    {
      "cell_type": "markdown",
      "source": [
        "**Membership operators**"
      ],
      "metadata": {
        "id": "P1yCUflIvlDY"
      }
    },
    {
      "cell_type": "code",
      "source": [
        "print('e' in 'praffull')\n",
        "print('e' not in 'praffull')\n",
        "skills=['java','python','sql','windows','spring']\n",
        "print('mongodb' in skills)"
      ],
      "metadata": {
        "colab": {
          "base_uri": "https://localhost:8080/"
        },
        "id": "-5SGdlESvqPs",
        "outputId": "b34a6b8e-7878-48c5-b76b-d3aec26af5c7"
      },
      "execution_count": 22,
      "outputs": [
        {
          "output_type": "stream",
          "name": "stdout",
          "text": [
            "False\n",
            "True\n",
            "False\n"
          ]
        }
      ]
    },
    {
      "cell_type": "markdown",
      "source": [
        "**Ternary operator**"
      ],
      "metadata": {
        "id": "Q2A0IpkCwlTi"
      }
    },
    {
      "cell_type": "code",
      "source": [
        "marks=47\n",
        "result='pass' if marks>=35 else 'fail'\n",
        "print(result)"
      ],
      "metadata": {
        "colab": {
          "base_uri": "https://localhost:8080/"
        },
        "id": "ARzbWwcwwp3k",
        "outputId": "dd7bb7bf-1a77-49a1-dcb3-6cd92118b5d9"
      },
      "execution_count": 23,
      "outputs": [
        {
          "output_type": "stream",
          "name": "stdout",
          "text": [
            "pass\n"
          ]
        }
      ]
    }
  ]
}