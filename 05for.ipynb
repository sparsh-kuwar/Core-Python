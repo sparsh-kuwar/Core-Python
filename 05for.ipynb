{
  "cells": [
    {
      "cell_type": "markdown",
      "metadata": {
        "id": "0XemdJN85p0G"
      },
      "source": [
        "for is used to repeat activities for a range"
      ]
    },
    {
      "cell_type": "code",
      "execution_count": 1,
      "metadata": {
        "colab": {
          "base_uri": "https://localhost:8080/"
        },
        "id": "vZJmHdBE5Go6",
        "outputId": "b8b684aa-e104-4c11-89b1-c8bf053aa258"
      },
      "outputs": [
        {
          "name": "stdout",
          "output_type": "stream",
          "text": [
            "welcome to SpiderWeb's training 1\n",
            "welcome to SpiderWeb's training 2\n",
            "welcome to SpiderWeb's training 3\n",
            "welcome to SpiderWeb's training 4\n",
            "welcome to SpiderWeb's training 5\n"
          ]
        }
      ],
      "source": [
        "for i in range(1,6):\n",
        "  print(f\"welcome to SpiderWeb's training {i}\")"
      ]
    },
    {
      "cell_type": "code",
      "execution_count": 6,
      "metadata": {
        "colab": {
          "base_uri": "https://localhost:8080/"
        },
        "id": "7sPSuIk58Pzj",
        "outputId": "01c223ad-2b25-4499-9ec4-112a6afbc0b2"
      },
      "outputs": [
        {
          "name": "stdout",
          "output_type": "stream",
          "text": [
            "Enter a number : 13\n",
            "13\n",
            "26\n",
            "39\n",
            "52\n",
            "65\n",
            "78\n",
            "91\n",
            "104\n",
            "117\n",
            "130\n"
          ]
        }
      ],
      "source": [
        "n=int(input('Enter a number : '))\n",
        "for i in range(1,11):\n",
        "  print(n*i)"
      ]
    },
    {
      "cell_type": "code",
      "execution_count": 7,
      "metadata": {
        "colab": {
          "base_uri": "https://localhost:8080/"
        },
        "id": "eMeMhyVN9f3l",
        "outputId": "6147912c-2548-4e31-fc51-6a2716cf2cb8"
      },
      "outputs": [
        {
          "name": "stdout",
          "output_type": "stream",
          "text": [
            "51\n",
            "52\n",
            "53\n",
            "54\n",
            "55\n",
            "56\n",
            "57\n",
            "58\n",
            "59\n",
            "60\n"
          ]
        }
      ],
      "source": [
        "for i in range(51,61):\n",
        "  print(i)"
      ]
    },
    {
      "cell_type": "code",
      "execution_count": 8,
      "metadata": {
        "colab": {
          "base_uri": "https://localhost:8080/"
        },
        "id": "__lpR9lT94eL",
        "outputId": "6a951a10-936e-41d0-e2e6-6a8357e60b82"
      },
      "outputs": [
        {
          "name": "stdout",
          "output_type": "stream",
          "text": [
            "1\n",
            "4\n",
            "7\n",
            "10\n",
            "13\n",
            "16\n",
            "19\n",
            "22\n"
          ]
        }
      ],
      "source": [
        "for i in range(1,25,3):\n",
        "  print(i)"
      ]
    },
    {
      "cell_type": "code",
      "execution_count": 9,
      "metadata": {
        "colab": {
          "base_uri": "https://localhost:8080/"
        },
        "id": "Icm72N9r-J4k",
        "outputId": "0b35dde2-0e72-4b78-f06e-185d809ad30d"
      },
      "outputs": [
        {
          "name": "stdout",
          "output_type": "stream",
          "text": [
            "20\n",
            "19\n",
            "18\n",
            "17\n",
            "16\n",
            "15\n",
            "14\n",
            "13\n",
            "12\n",
            "11\n",
            "10\n"
          ]
        }
      ],
      "source": [
        "for i in range(20,9,-1):\n",
        "  print(i)"
      ]
    }
  ],
  "metadata": {
    "colab": {
      "provenance": []
    },
    "kernelspec": {
      "display_name": "Python 3",
      "name": "python3"
    },
    "language_info": {
      "codemirror_mode": {
        "name": "ipython",
        "version": 3
      },
      "file_extension": ".py",
      "mimetype": "text/x-python",
      "name": "python",
      "nbconvert_exporter": "python",
      "pygments_lexer": "ipython3",
      "version": "3.13.5"
    }
  },
  "nbformat": 4,
  "nbformat_minor": 0
}
