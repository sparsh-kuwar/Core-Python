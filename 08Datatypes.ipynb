{
  "nbformat": 4,
  "nbformat_minor": 0,
  "metadata": {
    "colab": {
      "provenance": []
    },
    "kernelspec": {
      "name": "python3",
      "display_name": "Python 3"
    },
    "language_info": {
      "name": "python"
    }
  },
  "cells": [
    {
      "cell_type": "code",
      "execution_count": 1,
      "metadata": {
        "colab": {
          "base_uri": "https://localhost:8080/"
        },
        "id": "fCJ_rhbjayUX",
        "outputId": "0f1bbdab-86b6-4d18-ed84-bcce1da6c32b"
      },
      "outputs": [
        {
          "output_type": "stream",
          "name": "stdout",
          "text": [
            "<class 'int'>\n",
            "<class 'float'>\n",
            "<class 'str'>\n",
            "False\n"
          ]
        }
      ],
      "source": [
        "a=9\n",
        "print(type(a))\n",
        "\n",
        "b=12.57\n",
        "print(type(b))\n",
        "\n",
        "c='mission impossible'\n",
        "print(type(c))\n",
        "\n",
        "print(a>10)\n"
      ]
    },
    {
      "cell_type": "code",
      "source": [
        "cities=['mumbai','london','chicago','tokyo','dubai']\n",
        "print(type(cities))"
      ],
      "metadata": {
        "colab": {
          "base_uri": "https://localhost:8080/"
        },
        "id": "mdnAE1U1bRW3",
        "outputId": "e45ff974-ede7-4354-80c4-a096cd171f40"
      },
      "execution_count": 2,
      "outputs": [
        {
          "output_type": "stream",
          "name": "stdout",
          "text": [
            "<class 'list'>\n"
          ]
        }
      ]
    },
    {
      "cell_type": "code",
      "source": [
        "countries=('england','france','japan','germany')\n",
        "print(type(countries))"
      ],
      "metadata": {
        "colab": {
          "base_uri": "https://localhost:8080/"
        },
        "id": "KQoA0oWTbrlZ",
        "outputId": "eab00246-2041-45ad-8dfd-53588617e6c7"
      },
      "execution_count": 3,
      "outputs": [
        {
          "output_type": "stream",
          "name": "stdout",
          "text": [
            "<class 'tuple'>\n"
          ]
        }
      ]
    },
    {
      "cell_type": "code",
      "source": [
        "subjects={'english','science','maths','history'}\n",
        "print(type(subjects))"
      ],
      "metadata": {
        "colab": {
          "base_uri": "https://localhost:8080/"
        },
        "id": "6CKmtB5EcET8",
        "outputId": "486e17ed-be48-4330-e901-e3c1573458c6"
      },
      "execution_count": 4,
      "outputs": [
        {
          "output_type": "stream",
          "name": "stdout",
          "text": [
            "<class 'set'>\n"
          ]
        }
      ]
    },
    {
      "cell_type": "code",
      "source": [
        "film={\n",
        "    \"name\":\"pk\",\n",
        "    \"relyear\":2014,\n",
        "    \"language\":\"hindi\",\n",
        "    \"actor\":\"amir khan\",\n",
        "    \"imdbrating\":8.7\n",
        "}\n",
        "print(type(film))"
      ],
      "metadata": {
        "colab": {
          "base_uri": "https://localhost:8080/"
        },
        "id": "lsvvr9kwcXMr",
        "outputId": "45795b09-ebf2-4f2e-8e20-0b67a605906a"
      },
      "execution_count": 5,
      "outputs": [
        {
          "output_type": "stream",
          "name": "stdout",
          "text": [
            "<class 'dict'>\n"
          ]
        }
      ]
    }
  ]
}