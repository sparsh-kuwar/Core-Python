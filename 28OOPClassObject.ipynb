{
  "cells": [
    {
      "cell_type": "code",
      "execution_count": 1,
      "metadata": {
        "id": "IVdZUwpFgBpY"
      },
      "outputs": [],
      "source": [
        "class Person:\n",
        "  def welcome(self):\n",
        "    print('Welcome to OOP in Python')\n",
        "    print('-'*35)\n",
        "  def thanks(self,nm):\n",
        "    print(f'thanks {nm} for joining spiderweb')"
      ]
    },
    {
      "cell_type": "code",
      "execution_count": 2,
      "metadata": {
        "colab": {
          "base_uri": "https://localhost:8080/"
        },
        "id": "MEKZ8SCghjb-",
        "outputId": "a7a4aa0b-f5bf-4baf-f91d-aa3d571152c8"
      },
      "outputs": [
        {
          "name": "stdout",
          "output_type": "stream",
          "text": [
            "Welcome to OOP in Python\n",
            "-----------------------------------\n",
            "thanks sharayu for joining spiderweb\n"
          ]
        }
      ],
      "source": [
        "# c++ -> Person obj;\n",
        "# Java -> Person obj=new Person();\n",
        "obj=Person()\n",
        "obj.welcome()\n",
        "obj.thanks('sharayu')"
      ]
    },
    {
      "cell_type": "code",
      "execution_count": 3,
      "metadata": {
        "id": "FRCCeJPkkoxX"
      },
      "outputs": [],
      "source": [
        "class Calculator:\n",
        "  def add(self,a,b):\n",
        "    res=a+b\n",
        "    print(f'sum of {a} and {b} is {res}')\n",
        "  def multiply(self,x,y):\n",
        "    res=x*y\n",
        "    print(f'multiplication of {x} and {y} is {res}')\n",
        "  def square(self,n):\n",
        "    sq=n**2\n",
        "    print(f'square of {n} is {sq}')"
      ]
    },
    {
      "cell_type": "code",
      "execution_count": 4,
      "metadata": {
        "colab": {
          "base_uri": "https://localhost:8080/"
        },
        "id": "FjKR4uvKlbk0",
        "outputId": "93c3e72f-e394-4822-ad35-a5e90763f23d"
      },
      "outputs": [
        {
          "name": "stdout",
          "output_type": "stream",
          "text": [
            "multiplication of 12 and 45 is 540\n"
          ]
        }
      ],
      "source": [
        "cal=Calculator()\n",
        "cal.multiply(12,45)"
      ]
    }
  ],
  "metadata": {
    "colab": {
      "provenance": []
    },
    "kernelspec": {
      "display_name": "Python 3",
      "name": "python3"
    },
    "language_info": {
      "codemirror_mode": {
        "name": "ipython",
        "version": 3
      },
      "file_extension": ".py",
      "mimetype": "text/x-python",
      "name": "python",
      "nbconvert_exporter": "python",
      "pygments_lexer": "ipython3",
      "version": "3.13.5"
    }
  },
  "nbformat": 4,
  "nbformat_minor": 0
}
