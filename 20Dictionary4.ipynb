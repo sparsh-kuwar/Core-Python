{
  "cells": [
    {
      "cell_type": "code",
      "execution_count": 1,
      "metadata": {
        "colab": {
          "base_uri": "https://localhost:8080/"
        },
        "id": "ca7Am3t6xY_3",
        "outputId": "c6571e9f-e75b-4846-8bcb-1ade34e751ee"
      },
      "outputs": [
        {
          "name": "stdout",
          "output_type": "stream",
          "text": [
            "{'custnm': 'deu', 'product': 'laptop', 'model': 'latitude 5490', 'brand': 'dell', 'price': 79500.0, 'paymode': 'credit card'}\n"
          ]
        }
      ],
      "source": [
        "dic={\n",
        "    \"custnm\":\"deu\",\n",
        "    \"product\":\"laptop\",\n",
        "    \"model\":\"latitude 5490\",\n",
        "    \"brand\":\"dell\",\n",
        "    \"price\":79500.00,\n",
        "    'paymode':'credit card'\n",
        "}\n",
        "print(dic)"
      ]
    },
    {
      "cell_type": "code",
      "execution_count": 2,
      "metadata": {
        "colab": {
          "base_uri": "https://localhost:8080/"
        },
        "id": "9ZSCK_xYx5TU",
        "outputId": "5813f18c-38dc-45ff-8146-9cf99a886fc1"
      },
      "outputs": [
        {
          "name": "stdout",
          "output_type": "stream",
          "text": [
            "dict_keys(['custnm', 'product', 'model', 'brand', 'price', 'paymode'])\n"
          ]
        }
      ],
      "source": [
        "print(dic.keys())"
      ]
    },
    {
      "cell_type": "code",
      "execution_count": 4,
      "metadata": {
        "colab": {
          "base_uri": "https://localhost:8080/"
        },
        "id": "2sZGFkDoyCUC",
        "outputId": "cb3a8661-c33a-4bb0-ecfe-2059a262cb31"
      },
      "outputs": [
        {
          "name": "stdout",
          "output_type": "stream",
          "text": [
            "CUSTNM\n",
            "PRODUCT\n",
            "MODEL\n",
            "BRAND\n",
            "PRICE\n",
            "PAYMODE\n"
          ]
        }
      ],
      "source": [
        "for k in dic.keys():\n",
        "  print(k.upper())"
      ]
    },
    {
      "cell_type": "code",
      "execution_count": 3,
      "metadata": {
        "colab": {
          "base_uri": "https://localhost:8080/"
        },
        "id": "Q9URBuDayOKo",
        "outputId": "9a75f1c2-1018-4fd1-8011-9a61d3e63598"
      },
      "outputs": [
        {
          "name": "stdout",
          "output_type": "stream",
          "text": [
            "dict_values(['deu', 'laptop', 'latitude 5490', 'dell', 79500.0, 'credit card'])\n"
          ]
        }
      ],
      "source": [
        "print(dic.values())"
      ]
    },
    {
      "cell_type": "code",
      "execution_count": 6,
      "metadata": {
        "colab": {
          "base_uri": "https://localhost:8080/"
        },
        "id": "gXJQbr6xyS8Y",
        "outputId": "9f44dcf5-e251-404f-d7d8-93e9bc2e06ea"
      },
      "outputs": [
        {
          "name": "stdout",
          "output_type": "stream",
          "text": [
            "sharayu\n",
            "laptop\n",
            "latitude 5490\n",
            "dell\n",
            "79500.0\n",
            "credit card\n"
          ]
        }
      ],
      "source": [
        "for v in dic.values():\n",
        "  print(v)"
      ]
    },
    {
      "cell_type": "code",
      "execution_count": 2,
      "metadata": {
        "colab": {
          "base_uri": "https://localhost:8080/"
        },
        "id": "9pKsj_1Vyko8",
        "outputId": "f560642e-f896-48cd-f766-69ed7f777ab9"
      },
      "outputs": [
        {
          "name": "stdout",
          "output_type": "stream",
          "text": [
            "dict_items([('custnm', 'deu'), ('product', 'laptop'), ('model', 'latitude 5490'), ('brand', 'dell'), ('price', 79500.0), ('paymode', 'credit card')])\n"
          ]
        }
      ],
      "source": [
        "print(dic.items())"
      ]
    },
    {
      "cell_type": "code",
      "execution_count": 4,
      "metadata": {
        "colab": {
          "base_uri": "https://localhost:8080/"
        },
        "id": "tFGGL7zNyv6G",
        "outputId": "10eefe7b-66ba-4835-b6ad-3623b33c2650"
      },
      "outputs": [
        {
          "name": "stdout",
          "output_type": "stream",
          "text": [
            "('custnm', 'deu')\n",
            "('product', 'laptop')\n",
            "('model', 'latitude 5490')\n",
            "('brand', 'dell')\n",
            "('price', 79500.0)\n",
            "('paymode', 'credit card')\n"
          ]
        }
      ],
      "source": [
        "for i in dic.items():\n",
        "  print(i)"
      ]
    }
  ],
  "metadata": {
    "colab": {
      "provenance": []
    },
    "kernelspec": {
      "display_name": "Python 3",
      "name": "python3"
    },
    "language_info": {
      "codemirror_mode": {
        "name": "ipython",
        "version": 3
      },
      "file_extension": ".py",
      "mimetype": "text/x-python",
      "name": "python",
      "nbconvert_exporter": "python",
      "pygments_lexer": "ipython3",
      "version": "3.13.5"
    }
  },
  "nbformat": 4,
  "nbformat_minor": 0
}
