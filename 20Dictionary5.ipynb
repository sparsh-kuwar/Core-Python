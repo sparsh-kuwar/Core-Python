{
  "nbformat": 4,
  "nbformat_minor": 0,
  "metadata": {
    "colab": {
      "provenance": []
    },
    "kernelspec": {
      "name": "python3",
      "display_name": "Python 3"
    },
    "language_info": {
      "name": "python"
    }
  },
  "cells": [
    {
      "cell_type": "code",
      "execution_count": 1,
      "metadata": {
        "colab": {
          "base_uri": "https://localhost:8080/"
        },
        "id": "YFe8I9bzwabv",
        "outputId": "79a53bfe-6177-4e60-d4d7-8ac1eb6860d6"
      },
      "outputs": [
        {
          "output_type": "stream",
          "name": "stdout",
          "text": [
            "{'science': 0, 'maths': 0, 'english': 0}\n"
          ]
        }
      ],
      "source": [
        "exam={}.fromkeys(['science','maths','english'],0)\n",
        "print(exam)"
      ]
    },
    {
      "cell_type": "code",
      "source": [
        "exam['english']+=5\n",
        "print(exam)"
      ],
      "metadata": {
        "colab": {
          "base_uri": "https://localhost:8080/"
        },
        "id": "0JU9_uJZx1gv",
        "outputId": "0fd5ecc1-56b6-4a6f-969a-53b0e51b57c7"
      },
      "execution_count": 8,
      "outputs": [
        {
          "output_type": "stream",
          "name": "stdout",
          "text": [
            "{'science': 87, 'maths': 0, 'english': 23}\n"
          ]
        }
      ]
    },
    {
      "cell_type": "code",
      "source": [
        "exam['english']+=3\n",
        "print(exam)"
      ],
      "metadata": {
        "colab": {
          "base_uri": "https://localhost:8080/"
        },
        "id": "-IegvS_gyBBv",
        "outputId": "2d98f3fa-2355-4c69-92d3-a512b16e45fb"
      },
      "execution_count": 3,
      "outputs": [
        {
          "output_type": "stream",
          "name": "stdout",
          "text": [
            "{'science': 0, 'maths': 0, 'english': 8}\n"
          ]
        }
      ]
    },
    {
      "cell_type": "code",
      "source": [
        "exam['science']=87\n",
        "print(exam)"
      ],
      "metadata": {
        "colab": {
          "base_uri": "https://localhost:8080/"
        },
        "id": "OiWVuOoEyGnb",
        "outputId": "e87063b3-183d-46f8-808b-d985667aba39"
      },
      "execution_count": 4,
      "outputs": [
        {
          "output_type": "stream",
          "name": "stdout",
          "text": [
            "{'science': 87, 'maths': 0, 'english': 8}\n"
          ]
        }
      ]
    },
    {
      "cell_type": "code",
      "source": [
        "student={}.fromkeys(['praffull','sharayu','soham','shailaja'],'london')\n",
        "print(student)"
      ],
      "metadata": {
        "colab": {
          "base_uri": "https://localhost:8080/"
        },
        "id": "eCGI24Q5yW4-",
        "outputId": "a6816583-1436-43d6-92f5-eb582e9f110f"
      },
      "execution_count": 5,
      "outputs": [
        {
          "output_type": "stream",
          "name": "stdout",
          "text": [
            "{'praffull': 'london', 'sharayu': 'london', 'soham': 'london', 'shailaja': 'london'}\n"
          ]
        }
      ]
    },
    {
      "cell_type": "code",
      "source": [
        "student['shailaja']='dubai'\n",
        "print(student)"
      ],
      "metadata": {
        "colab": {
          "base_uri": "https://localhost:8080/"
        },
        "id": "8fB4tve3ypyd",
        "outputId": "2d7de521-e0f0-4526-af89-12ab5f87922c"
      },
      "execution_count": 9,
      "outputs": [
        {
          "output_type": "stream",
          "name": "stdout",
          "text": [
            "{'praffull': 'london', 'sharayu': 'london', 'soham': 'london', 'shailaja': 'dubai'}\n"
          ]
        }
      ]
    }
  ]
}