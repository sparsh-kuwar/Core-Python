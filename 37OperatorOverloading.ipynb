{
  "nbformat": 4,
  "nbformat_minor": 0,
  "metadata": {
    "colab": {
      "provenance": []
    },
    "kernelspec": {
      "name": "python3",
      "display_name": "Python 3"
    },
    "language_info": {
      "name": "python"
    }
  },
  "cells": [
    {
      "cell_type": "code",
      "execution_count": 10,
      "metadata": {
        "id": "lGclkO1FJZFO"
      },
      "outputs": [],
      "source": [
        "class Product:\n",
        "  quantity=0\n",
        "  purchcost=0\n",
        "  def __init__(self,quantity,purchcost):\n",
        "    self.quantity=quantity\n",
        "    self.purchcost=purchcost\n",
        "  def showstock(self):\n",
        "    print(f'Quantity : {self.quantity}')\n",
        "    print(f'Purchase Cost : {self.purchcost}')\n",
        "  def __add__(self,obj2):\n",
        "    q=self.quantity+obj2.quantity\n",
        "    c=self.purchcost+obj2.purchcost\n",
        "    return Product(q,c)"
      ]
    },
    {
      "cell_type": "code",
      "source": [
        "dell=Product(7,457000)\n",
        "dell.showstock()"
      ],
      "metadata": {
        "colab": {
          "base_uri": "https://localhost:8080/"
        },
        "id": "7EFbNcaGKheN",
        "outputId": "4a529a59-3518-47fc-8859-721d6ec66410"
      },
      "execution_count": 11,
      "outputs": [
        {
          "output_type": "stream",
          "name": "stdout",
          "text": [
            "Quantity : 7\n",
            "Purchase Cost : 457000\n"
          ]
        }
      ]
    },
    {
      "cell_type": "code",
      "source": [
        "hp=Product(12,934000)\n",
        "hp.showstock()"
      ],
      "metadata": {
        "colab": {
          "base_uri": "https://localhost:8080/"
        },
        "id": "7kNAdi56K70-",
        "outputId": "160a31a2-eb7f-42b9-8ce6-6d59539a77a2"
      },
      "execution_count": 12,
      "outputs": [
        {
          "output_type": "stream",
          "name": "stdout",
          "text": [
            "Quantity : 12\n",
            "Purchase Cost : 934000\n"
          ]
        }
      ]
    },
    {
      "cell_type": "code",
      "source": [
        "total=dell+hp\n",
        "total.showstock()"
      ],
      "metadata": {
        "colab": {
          "base_uri": "https://localhost:8080/"
        },
        "id": "aeNyoprmLUCI",
        "outputId": "75a63db9-29ef-4407-a02b-a8e9b58c7de0"
      },
      "execution_count": 13,
      "outputs": [
        {
          "output_type": "stream",
          "name": "stdout",
          "text": [
            "Quantity : 19\n",
            "Purchase Cost : 1391000\n"
          ]
        }
      ]
    }
  ]
}