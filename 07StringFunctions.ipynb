{
  "nbformat": 4,
  "nbformat_minor": 0,
  "metadata": {
    "colab": {
      "provenance": []
    },
    "kernelspec": {
      "name": "python3",
      "display_name": "Python 3"
    },
    "language_info": {
      "name": "python"
    }
  },
  "cells": [
    {
      "cell_type": "code",
      "execution_count": null,
      "metadata": {
        "id": "SlJ2VKFELL74"
      },
      "outputs": [],
      "source": [
        "nm='sohamglobal is microsoft partner'"
      ]
    },
    {
      "cell_type": "code",
      "source": [
        "print(nm.upper())\n",
        "print(nm.lower())\n",
        "print(nm.capitalize())\n",
        "print(nm.title())"
      ],
      "metadata": {
        "colab": {
          "base_uri": "https://localhost:8080/"
        },
        "id": "NnyI8d6tLr95",
        "outputId": "cd61e284-9c18-424c-9ee6-3cbfa04f951c"
      },
      "execution_count": null,
      "outputs": [
        {
          "output_type": "stream",
          "name": "stdout",
          "text": [
            "SOHAMGLOBAL IS MICROSOFT PARTNER\n",
            "sohamglobal is microsoft partner\n",
            "Sohamglobal is microsoft partner\n",
            "Sohamglobal Is Microsoft Partner\n"
          ]
        }
      ]
    },
    {
      "cell_type": "code",
      "source": [
        "city='   london   '\n",
        "print(city.strip())\n",
        "print(city.lstrip())\n",
        "print(city.rstrip())"
      ],
      "metadata": {
        "colab": {
          "base_uri": "https://localhost:8080/"
        },
        "id": "MAXDlEs7MjFW",
        "outputId": "b45148db-18ce-4c37-f4c4-a98968ae0153"
      },
      "execution_count": null,
      "outputs": [
        {
          "output_type": "stream",
          "name": "stdout",
          "text": [
            "london\n",
            "london   \n",
            "   london\n"
          ]
        }
      ]
    },
    {
      "cell_type": "code",
      "source": [
        "slogan=\"you will never walk alone\"\n",
        "slogan=slogan.replace('walk','communicate')\n",
        "print(slogan)"
      ],
      "metadata": {
        "colab": {
          "base_uri": "https://localhost:8080/"
        },
        "id": "9R7ctbl7NW8x",
        "outputId": "4bd879ec-6d24-48fe-8d60-c2347bb77ea0"
      },
      "execution_count": null,
      "outputs": [
        {
          "output_type": "stream",
          "name": "stdout",
          "text": [
            "you will never communicate alone\n"
          ]
        }
      ]
    },
    {
      "cell_type": "code",
      "source": [
        "slogan=\"you will never walk alone\"\n",
        "print(slogan.split())\n",
        "film='the matrix,1999,action,keanu reeves,english,9.1'\n",
        "print(film.split(','))"
      ],
      "metadata": {
        "colab": {
          "base_uri": "https://localhost:8080/"
        },
        "id": "q4U2UNNPObqi",
        "outputId": "5856d7ad-03c9-4832-8b57-d86ef52a14d0"
      },
      "execution_count": null,
      "outputs": [
        {
          "output_type": "stream",
          "name": "stdout",
          "text": [
            "['you', 'will', 'never', 'walk', 'alone']\n",
            "['the matrix', '1999', 'action', 'keanu reeves', 'english', '9.1']\n"
          ]
        }
      ]
    },
    {
      "cell_type": "code",
      "source": [
        "nm='sohamglobal'\n",
        "print(nm.find('m'))\n",
        "print(nm.find('o'))\n",
        "print(nm.rfind('o'))"
      ],
      "metadata": {
        "colab": {
          "base_uri": "https://localhost:8080/"
        },
        "id": "DaJF7jkQQc34",
        "outputId": "f32430c6-a001-4546-9efa-0b0e38a28908"
      },
      "execution_count": null,
      "outputs": [
        {
          "output_type": "stream",
          "name": "stdout",
          "text": [
            "4\n",
            "1\n",
            "7\n"
          ]
        }
      ]
    },
    {
      "cell_type": "code",
      "source": [
        "print('-'.join(['soham','global','technologies']))"
      ],
      "metadata": {
        "colab": {
          "base_uri": "https://localhost:8080/"
        },
        "id": "iAyrBe9vRNOr",
        "outputId": "01eb7689-80b4-49a8-fd9a-e64624b69863"
      },
      "execution_count": null,
      "outputs": [
        {
          "output_type": "stream",
          "name": "stdout",
          "text": [
            "soham-global-technologies\n"
          ]
        }
      ]
    },
    {
      "cell_type": "code",
      "source": [
        "nm='volkswagen is my car company'\n",
        "print(nm.find('soham'))\n",
        "print(nm.index('car'))\n",
        "#print(nm.index('soham')) returns error if not found"
      ],
      "metadata": {
        "colab": {
          "base_uri": "https://localhost:8080/"
        },
        "id": "fx0WZiVERqMn",
        "outputId": "14b88d3b-3a35-4934-c21b-8e500d61ba8a"
      },
      "execution_count": null,
      "outputs": [
        {
          "output_type": "stream",
          "name": "stdout",
          "text": [
            "-1\n",
            "17\n"
          ]
        }
      ]
    },
    {
      "cell_type": "code",
      "source": [
        "str='technology is power technology is future'\n",
        "print(str.count('e'))\n",
        "print(str.count('is'))"
      ],
      "metadata": {
        "colab": {
          "base_uri": "https://localhost:8080/"
        },
        "id": "CxgcobiXSk7b",
        "outputId": "d205e4c7-a3c5-4efb-aee9-ea1d7bc0ecc3"
      },
      "execution_count": null,
      "outputs": [
        {
          "output_type": "stream",
          "name": "stdout",
          "text": [
            "4\n",
            "2\n"
          ]
        }
      ]
    },
    {
      "cell_type": "code",
      "source": [
        "ques=\"what is the capital of England?\"\n",
        "print(ques.startswith('where'))\n",
        "print(ques.startswith('what'))\n",
        "print(ques.endswith('?'))"
      ],
      "metadata": {
        "colab": {
          "base_uri": "https://localhost:8080/"
        },
        "id": "5FDSv4HOTBXf",
        "outputId": "85ee0a68-59eb-4d37-f8fd-fa45a5889245"
      },
      "execution_count": null,
      "outputs": [
        {
          "output_type": "stream",
          "name": "stdout",
          "text": [
            "False\n",
            "True\n",
            "True\n"
          ]
        }
      ]
    },
    {
      "cell_type": "code",
      "source": [
        "nm='sharayuglobal'\n",
        "print(nm.isalpha())\n",
        "code='431604'\n",
        "print(code.isdigit())\n",
        "ps=\"chelsea786\"\n",
        "print(ps.isalnum())\n",
        "str=\" \"\n",
        "print(str.isspace())"
      ],
      "metadata": {
        "colab": {
          "base_uri": "https://localhost:8080/"
        },
        "id": "xySVLW_KVP9D",
        "outputId": "aee78ab3-4e1b-4499-896c-8d40abc3b45a"
      },
      "execution_count": 8,
      "outputs": [
        {
          "output_type": "stream",
          "name": "stdout",
          "text": [
            "True\n",
            "True\n",
            "True\n",
            "True\n"
          ]
        }
      ]
    },
    {
      "cell_type": "code",
      "source": [
        "nm=\"SohamGlobal\"\n",
        "print(nm.swapcase())"
      ],
      "metadata": {
        "colab": {
          "base_uri": "https://localhost:8080/"
        },
        "id": "cXP9sIEiWulE",
        "outputId": "e6340dcb-f3ff-4734-86e0-2b3be19f5445"
      },
      "execution_count": 9,
      "outputs": [
        {
          "output_type": "stream",
          "name": "stdout",
          "text": [
            "sOHAMgLOBAL\n"
          ]
        }
      ]
    },
    {
      "cell_type": "code",
      "source": [
        "n='13'\n",
        "print(n.zfill(5))\n"
      ],
      "metadata": {
        "colab": {
          "base_uri": "https://localhost:8080/"
        },
        "id": "61kC6ExaW8GB",
        "outputId": "fb04aab4-51ea-4cc4-cb20-771c10fd5173"
      },
      "execution_count": 10,
      "outputs": [
        {
          "output_type": "stream",
          "name": "stdout",
          "text": [
            "00013\n"
          ]
        }
      ]
    },
    {
      "cell_type": "code",
      "source": [
        "print('hi'.ljust(10,'#'))\n",
        "print('hi'.rjust(10,'#'))\n",
        "print('hi'.center(10,\"#\"))"
      ],
      "metadata": {
        "colab": {
          "base_uri": "https://localhost:8080/"
        },
        "id": "OVLk1oVmXVQ7",
        "outputId": "76b6875c-a383-49b8-96d7-3d4ab4aa426a"
      },
      "execution_count": 13,
      "outputs": [
        {
          "output_type": "stream",
          "name": "stdout",
          "text": [
            "hi########\n",
            "########hi\n",
            "####hi####\n"
          ]
        }
      ]
    },
    {
      "cell_type": "code",
      "source": [
        "msg=\"Hello {} thanks for joining {}\"\n",
        "print(msg.format('sharayu','sohamglobal'))\n",
        "print(msg.format('praffull','spider projects one'))"
      ],
      "metadata": {
        "colab": {
          "base_uri": "https://localhost:8080/"
        },
        "id": "VBxcfE-TYRqQ",
        "outputId": "9bfd5ecf-bbc5-4f09-b5ea-ded677e0f6a6"
      },
      "execution_count": 15,
      "outputs": [
        {
          "output_type": "stream",
          "name": "stdout",
          "text": [
            "Hello sharayu thanks for joining sohamglobal\n",
            "Hello praffull thanks for joining spider projects one\n"
          ]
        }
      ]
    }
  ]
}