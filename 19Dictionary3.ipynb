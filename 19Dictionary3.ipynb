{
  "nbformat": 4,
  "nbformat_minor": 0,
  "metadata": {
    "colab": {
      "provenance": []
    },
    "kernelspec": {
      "name": "python3",
      "display_name": "Python 3"
    },
    "language_info": {
      "name": "python"
    }
  },
  "cells": [
    {
      "cell_type": "code",
      "execution_count": 2,
      "metadata": {
        "colab": {
          "base_uri": "https://localhost:8080/"
        },
        "id": "4FfJ2-snvTR_",
        "outputId": "26e716e0-cf2d-4e9a-dc50-0a609a32fed2"
      },
      "outputs": [
        {
          "output_type": "stream",
          "name": "stdout",
          "text": [
            "{'name': 'mohammed salah', 'personal': {'age': 29, 'gender': 'male', 'country': 'egypt'}, 'professional': {'position': 'forward', 'club': 'liverpool', 'jersey': 11}, 'health': {'height': 175, 'weight': 67}}\n"
          ]
        }
      ],
      "source": [
        "player={\n",
        "    'name':'mohammed salah',\n",
        "    'personal':{\n",
        "        'age':29,\n",
        "        'gender':'male',\n",
        "        'country':'egypt'\n",
        "    },\n",
        "    'professional':{\n",
        "        'position':'forward',\n",
        "        'club':'liverpool',\n",
        "        'jersey':11\n",
        "    },\n",
        "    'health':{\n",
        "        'height':175,\n",
        "        'weight':67\n",
        "    }\n",
        "\n",
        "}\n",
        "print(player)"
      ]
    },
    {
      "cell_type": "code",
      "source": [
        "print(player['name'])"
      ],
      "metadata": {
        "colab": {
          "base_uri": "https://localhost:8080/"
        },
        "id": "tEsLHE1Pw0xc",
        "outputId": "946c19e1-b3d2-4a4e-97e6-03b2465ecccc"
      },
      "execution_count": 3,
      "outputs": [
        {
          "output_type": "stream",
          "name": "stdout",
          "text": [
            "mohammed salah\n"
          ]
        }
      ]
    },
    {
      "cell_type": "code",
      "source": [
        "print(player['professional'])"
      ],
      "metadata": {
        "colab": {
          "base_uri": "https://localhost:8080/"
        },
        "id": "H_0H5k_Ow5JT",
        "outputId": "abb4fc9f-a188-46a1-ea89-c39a34577da8"
      },
      "execution_count": 4,
      "outputs": [
        {
          "output_type": "stream",
          "name": "stdout",
          "text": [
            "{'position': 'forward', 'club': 'liverpool', 'jersey': 11}\n"
          ]
        }
      ]
    },
    {
      "cell_type": "code",
      "source": [
        "print(player['professional']['club'])"
      ],
      "metadata": {
        "colab": {
          "base_uri": "https://localhost:8080/"
        },
        "id": "RJwdtl2-xAf-",
        "outputId": "2aa551a2-6836-4c4c-ed60-29ab54463e1b"
      },
      "execution_count": 5,
      "outputs": [
        {
          "output_type": "stream",
          "name": "stdout",
          "text": [
            "liverpool\n"
          ]
        }
      ]
    }
  ]
}