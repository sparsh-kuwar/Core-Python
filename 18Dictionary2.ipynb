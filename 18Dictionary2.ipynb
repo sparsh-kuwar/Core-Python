{
  "nbformat": 4,
  "nbformat_minor": 0,
  "metadata": {
    "colab": {
      "provenance": []
    },
    "kernelspec": {
      "name": "python3",
      "display_name": "Python 3"
    },
    "language_info": {
      "name": "python"
    }
  },
  "cells": [
    {
      "cell_type": "code",
      "execution_count": 1,
      "metadata": {
        "colab": {
          "base_uri": "https://localhost:8080/"
        },
        "id": "RGS-K_ITtB1G",
        "outputId": "86b26b8a-a34d-46cb-cb67-d8ab0f8f2191"
      },
      "outputs": [
        {
          "output_type": "stream",
          "name": "stdout",
          "text": [
            "{'filmnm': ['the matrix', 'pk', 'sholay'], 'year': [1999, 2014, 1975], 'actor': ['keanu reeves', 'amir khan', 'amitabh bachchan'], 'language': ['english', 'hindi', 'hindi'], 'imdbrating': [8.7, 8.1, 7.8]}\n"
          ]
        }
      ],
      "source": [
        "films={\n",
        "    'filmnm':['the matrix','pk','sholay'],\n",
        "    'year':[1999,2014,1975],\n",
        "    'actor':['keanu reeves','amir khan','amitabh bachchan'],\n",
        "    'language':['english','hindi','hindi'],\n",
        "    'imdbrating':[8.7,8.1,7.8]\n",
        "}\n",
        "print(films)"
      ]
    },
    {
      "cell_type": "code",
      "source": [
        "print(films['actor'])"
      ],
      "metadata": {
        "colab": {
          "base_uri": "https://localhost:8080/"
        },
        "id": "B4-P2RcVumK7",
        "outputId": "df31be7b-0f2e-4926-a906-651ae12309f3"
      },
      "execution_count": 2,
      "outputs": [
        {
          "output_type": "stream",
          "name": "stdout",
          "text": [
            "['keanu reeves', 'amir khan', 'amitabh bachchan']\n"
          ]
        }
      ]
    },
    {
      "cell_type": "code",
      "source": [
        "print(films['actor'][1])"
      ],
      "metadata": {
        "colab": {
          "base_uri": "https://localhost:8080/"
        },
        "id": "Cu7ownpSu5DE",
        "outputId": "d3f9c5af-7557-490e-c273-41ee55022995"
      },
      "execution_count": 3,
      "outputs": [
        {
          "output_type": "stream",
          "name": "stdout",
          "text": [
            "amir khan\n"
          ]
        }
      ]
    }
  ]
}